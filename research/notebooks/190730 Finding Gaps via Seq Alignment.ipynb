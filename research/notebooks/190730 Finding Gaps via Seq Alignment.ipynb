{
 "cells": [
  {
   "cell_type": "code",
   "execution_count": 1,
   "metadata": {},
   "outputs": [],
   "source": [
    "from Bio import Align\n",
    "import numpy as np"
   ]
  },
  {
   "cell_type": "markdown",
   "metadata": {
    "heading_collapsed": true
   },
   "source": [
    "### Aligner 1"
   ]
  },
  {
   "cell_type": "code",
   "execution_count": null,
   "metadata": {
    "hidden": true
   },
   "outputs": [],
   "source": [
    "# NEW\n",
    "a = Align.PairwiseAligner()\n",
    "\n",
    "# Don't allow for gaps or mismatches with the target sequence\n",
    "penalty = -np.inf\n",
    "a.target_gap_score = penalty\n",
    "a.mismatch_score = penalty\n",
    "a.match_score = 100\n",
    "a.match = 100\n",
    "a.mismatch= penalty\n",
    "\n",
    "GAP_BASE = 1\n",
    "\n",
    "# Generally, prefer to extend gaps than to create them\n",
    "a.query_internal_extend_gap_score = GAP_BASE + 1\n",
    "a.query_internal_open_gap_score = GAP_BASE\n",
    "\n",
    "# Set slight preference for open gaps on the edges, however, if present, strongly prefer single edge gaps\n",
    "a.query_right_extend_gap_score = a.query_internal_extend_gap_score + 2\n",
    "a.query_left_extend_gap_score = a.query_right_extend_gap_score\n",
    "a.query_right_open_gap_score = a.query_internal_extend_gap_score + 1\n",
    "a.query_left_open_gap_score = a.query_right_open_gap_score \n",
    "# a.mismatch = -np.inf\n",
    "\n"
   ]
  },
  {
   "cell_type": "code",
   "execution_count": null,
   "metadata": {
    "hidden": true
   },
   "outputs": [],
   "source": [
    "a.mismatch_score, a.target_gap_score"
   ]
  },
  {
   "cell_type": "markdown",
   "metadata": {},
   "source": [
    "### Aligner 2"
   ]
  },
  {
   "cell_type": "code",
   "execution_count": 6,
   "metadata": {},
   "outputs": [],
   "source": [
    "a = Align.PairwiseAligner()\n",
    "\n",
    "# Don't allow for gaps or mismatches with the target sequence\n",
    "a.target_gap_score = -np.inf\n",
    "a.mismatch = -np.inf\n",
    "# a.mismatch_score = 9999999\n",
    "a.mismatch_score = -np.inf\n",
    "a.match = 5\n",
    "\n",
    "# Generally, prefer to extend gaps than to create them\n",
    "a.query_extend_gap_score = 99\n",
    "a.query_open_gap_score = 49\n",
    "\n",
    "# Set slight preference for open gaps on the edges, however, if present, strongly prefer single edge gaps\n",
    "a.query_end_open_gap_score = 50\n",
    "a.query_end_extend_gap_score = 100"
   ]
  },
  {
   "cell_type": "code",
   "execution_count": 21,
   "metadata": {},
   "outputs": [],
   "source": [
    "a = Align.PairwiseAligner()\n",
    "\n",
    "# Don't allow for gaps or mismatches with the target sequence\n",
    "a.target_gap_score = -9000000000\n",
    "a.mismatch = -9999\n",
    "a.mismatch_score = -9999\n",
    "a.match = 5\n",
    "\n",
    "# Generally, prefer to extend gaps than to create them\n",
    "a.query_extend_gap_score = 99\n",
    "a.query_open_gap_score = 49\n",
    "\n",
    "# Set slight preference for open gaps on the edges, however, if present, strongly prefer single edge gaps\n",
    "a.query_end_open_gap_score = 50\n",
    "a.query_end_extend_gap_score = 100"
   ]
  },
  {
   "cell_type": "code",
   "execution_count": 39,
   "metadata": {},
   "outputs": [],
   "source": [
    "a = Align.PairwiseAligner()\n",
    "\n",
    "# Don't allow for gaps or mismatches with the target sequence\n",
    "a.target_gap_score = -9000000000\n",
    "a.mismatch = -9999\n",
    "a.mismatch_score = -9999\n",
    "a.match = 1\n",
    "\n",
    "# Generally, prefer to extend gaps than to create them\n",
    "a.query_extend_gap_score = 0\n",
    "a.query_open_gap_score = -4\n",
    "\n",
    "# Set slight preference for open gaps on the edges, however, if present, strongly prefer single edge gaps\n",
    "a.query_end_open_gap_score = -3\n",
    "a.query_end_extend_gap_score = .2"
   ]
  },
  {
   "cell_type": "markdown",
   "metadata": {
    "heading_collapsed": true
   },
   "source": [
    "### Aligner 3 - no negatives"
   ]
  },
  {
   "cell_type": "code",
   "execution_count": null,
   "metadata": {
    "hidden": true
   },
   "outputs": [],
   "source": [
    "a = Align.PairwiseAligner()\n",
    "\n",
    "# Don't allow for gaps or mismatches with the target sequence\n",
    "a.target_gap_score = 0\n",
    "a.mismatch = 0\n",
    "a.mismatch_score = 0\n",
    "a.match = 101\n",
    "\n",
    "# Generally, prefer to extend gaps than to create them\n",
    "a.query_extend_gap_score = 99\n",
    "a.query_open_gap_score = 49\n",
    "\n",
    "# Set slight preference for open gaps on the edges, however, if present, strongly prefer single edge gaps\n",
    "a.query_end_extend_gap_score = 100\n",
    "a.query_end_open_gap_score = 50\n"
   ]
  },
  {
   "cell_type": "code",
   "execution_count": null,
   "metadata": {
    "hidden": true
   },
   "outputs": [],
   "source": [
    "a.mismatch, a.mismatch_score, a.target_gap_score"
   ]
  },
  {
   "cell_type": "markdown",
   "metadata": {},
   "source": [
    "# Method"
   ]
  },
  {
   "cell_type": "code",
   "execution_count": 40,
   "metadata": {},
   "outputs": [],
   "source": [
    "from itertools import zip_longest\n",
    "\n",
    "def grouper(iterable, n, fillvalue=None):\n",
    "    args = [iter(iterable)] * n\n",
    "    return zip_longest(*args, fillvalue=fillvalue)\n",
    "\n",
    "def get_mask(true, observed, as_numpy=False):\n",
    "    alignments = a.align(true, observed)\n",
    "    if len(alignments) > 1 and alignments[0].score == alignments[1].score:\n",
    "        print(\"Multiple equally-scored alignments found.\")\n",
    "        \n",
    "    a1 = alignments[0]\n",
    "    for al in alignments:\n",
    "        print(al)\n",
    "#     print(a1)\n",
    "    print(a1.score)\n",
    "    assert a1.path[0] == (0, 0), \"Path must start at (0,0).\"\n",
    "    assert a1.score > 0, \"Alignment must be positive\"\n",
    "    assert len(observed) <= len(true), \"Obs seq must be shorter than or same length as true seq.\"\n",
    "    \n",
    "    # If the alignment starts with a match, then star the seqmask with \"-\"\n",
    "    if a1.path[1][0] != 0 and a1.path[1][1] != 0:\n",
    "        seqmask = \"-\"*len(true)\n",
    "        gapchar = \"+\"\n",
    "    else:\n",
    "        seqmask = \"+\"*len(true)\n",
    "        gapchar = \"-\"\n",
    "        \n",
    "    for gap_start, gap_end in grouper(a1.path, 2):\n",
    "        if gap_end is None:\n",
    "            break\n",
    "        assert gap_start[1] == gap_end[1] or \\\n",
    "        (gap_end[0] - gap_start[0] == gap_end[1] - gap_start[1]), f\"There must be a gap in the observed seq only, {gap_start}, {gap_end}\"\n",
    "        \n",
    "        seqmask = seqmask[:gap_start[0]] + gapchar*(gap_end[0]-gap_start[0]) + seqmask[gap_end[0]:]\n",
    "    if as_numpy:\n",
    "        ints = []\n",
    "        for s in seqmask:\n",
    "            if s is \"+\":\n",
    "                ints.append(1)\n",
    "            else:\n",
    "                ints.append(0)\n",
    "        return np.asarray(ints)\n",
    "    return seqmask\n",
    "    \n",
    "    "
   ]
  },
  {
   "cell_type": "markdown",
   "metadata": {},
   "source": [
    "# Examples"
   ]
  },
  {
   "cell_type": "code",
   "execution_count": 41,
   "metadata": {
    "scrolled": true
   },
   "outputs": [
    {
     "name": "stdout",
     "output_type": "stream",
     "text": [
      "Multiple equally-scored alignments found.\n",
      "SLKIIRHHHSNAAAAANNALDITO\n",
      "||||||||||------||||||||\n",
      "SLKIIRHHHS------NNALDITO\n",
      "\n",
      "SLKIIRHHHSNAAAAANNALDITO\n",
      "|||||||||||------|||||||\n",
      "SLKIIRHHHSN------NALDITO\n",
      "\n",
      "14.0\n"
     ]
    },
    {
     "data": {
      "text/plain": [
       "'++++++++++------++++++++'"
      ]
     },
     "execution_count": 41,
     "metadata": {},
     "output_type": "execute_result"
    }
   ],
   "source": [
    "get_mask(\"SLKIIRHHHSNAAAAANNALDITO\", \"SLKIIRHHHSNNALDITO\")"
   ]
  },
  {
   "cell_type": "code",
   "execution_count": 42,
   "metadata": {},
   "outputs": [
    {
     "name": "stdout",
     "output_type": "stream",
     "text": [
      "AAAAAAAAGAPAAAAAAA\n",
      "||||||||---|||||||\n",
      "AAAAAAAA---AAAAAAA\n",
      "\n",
      "11.0\n"
     ]
    },
    {
     "data": {
      "text/plain": [
       "array([1, 1, 1, 1, 1, 1, 1, 1, 0, 0, 0, 1, 1, 1, 1, 1, 1, 1])"
      ]
     },
     "execution_count": 42,
     "metadata": {},
     "output_type": "execute_result"
    }
   ],
   "source": [
    "get_mask(\"AAAAAAAAGAPAAAAAAA\", \"AAAAAAAAAAAAAAA\", as_numpy=True)"
   ]
  },
  {
   "cell_type": "code",
   "execution_count": 43,
   "metadata": {},
   "outputs": [
    {
     "name": "stdout",
     "output_type": "stream",
     "text": [
      "AAAAAAAAGAAAAAAAPAAAAAAA\n",
      "||||||||---------|||||||\n",
      "AAAAAAAA---------AAAAAAA\n",
      "\n",
      "11.0\n"
     ]
    },
    {
     "data": {
      "text/plain": [
       "'++++++++---------+++++++'"
      ]
     },
     "execution_count": 43,
     "metadata": {},
     "output_type": "execute_result"
    }
   ],
   "source": [
    "get_mask(\"AAAAAAAAGAAAAAAAPAAAAAAA\", \"AAAAAAAAAAAAAAA\")"
   ]
  },
  {
   "cell_type": "code",
   "execution_count": 44,
   "metadata": {},
   "outputs": [
    {
     "name": "stdout",
     "output_type": "stream",
     "text": [
      "STARTAAAAAAAAAAAAAAA\n",
      "-----|||||||||||||||\n",
      "-----AAAAAAAAAAAAAAA\n",
      "\n",
      "12.8\n"
     ]
    },
    {
     "data": {
      "text/plain": [
       "'-----+++++++++++++++'"
      ]
     },
     "execution_count": 44,
     "metadata": {},
     "output_type": "execute_result"
    }
   ],
   "source": [
    "get_mask(\"STARTAAAAAAAAAAAAAAA\", \"AAAAAAAAAAAAAAA\")"
   ]
  },
  {
   "cell_type": "code",
   "execution_count": 45,
   "metadata": {},
   "outputs": [
    {
     "name": "stdout",
     "output_type": "stream",
     "text": [
      "AAAAAAAAAAAAAAAEND\n",
      "|||||||||||||||---\n",
      "AAAAAAAAAAAAAAA---\n",
      "\n",
      "12.399999999999999\n"
     ]
    },
    {
     "data": {
      "text/plain": [
       "'+++++++++++++++---'"
      ]
     },
     "execution_count": 45,
     "metadata": {},
     "output_type": "execute_result"
    }
   ],
   "source": [
    "get_mask(\"AAAAAAAAAAAAAAAEND\", \"AAAAAAAAAAAAAAA\")"
   ]
  },
  {
   "cell_type": "code",
   "execution_count": 46,
   "metadata": {},
   "outputs": [
    {
     "name": "stdout",
     "output_type": "stream",
     "text": [
      "STARTAAAAAAAAAAAAAAA\n",
      "-----|||||||||||||||\n",
      "-----AAAAAAAAAAAAAAA\n",
      "\n",
      "12.8\n"
     ]
    },
    {
     "data": {
      "text/plain": [
       "'-----+++++++++++++++'"
      ]
     },
     "execution_count": 46,
     "metadata": {},
     "output_type": "execute_result"
    }
   ],
   "source": [
    "get_mask(\"STARTAAAAAAAAAAAAAAA\", \"AAAAAAAAAAAAAAA\")"
   ]
  },
  {
   "cell_type": "code",
   "execution_count": 47,
   "metadata": {},
   "outputs": [
    {
     "name": "stdout",
     "output_type": "stream",
     "text": [
      "STARTAAAAAAAAAGAPAAAAAA\n",
      "-----|||||||||---||||||\n",
      "-----AAAAAAAAA---AAAAAA\n",
      "\n",
      "8.8\n"
     ]
    },
    {
     "data": {
      "text/plain": [
       "'-----+++++++++---++++++'"
      ]
     },
     "execution_count": 47,
     "metadata": {},
     "output_type": "execute_result"
    }
   ],
   "source": [
    "get_mask(\"STARTAAAAAAAAAGAPAAAAAA\", \"AAAAAAAAAAAAAAA\")"
   ]
  },
  {
   "cell_type": "code",
   "execution_count": 48,
   "metadata": {},
   "outputs": [
    {
     "name": "stdout",
     "output_type": "stream",
     "text": [
      "STARTAAAAAAAAAGAPAAAAEAAEND\n",
      "-----|||||||||---||||-||---\n",
      "-----AAAAAAAAA---AAAA-AA---\n",
      "\n",
      "2.1999999999999997\n"
     ]
    },
    {
     "data": {
      "text/plain": [
       "'-----+++++++++---++++-++---'"
      ]
     },
     "execution_count": 48,
     "metadata": {},
     "output_type": "execute_result"
    }
   ],
   "source": [
    "get_mask(\"STARTAAAAAAAAAGAPAAAAEAAEND\", \"AAAAAAAAAAAAAAA\")"
   ]
  },
  {
   "cell_type": "code",
   "execution_count": 49,
   "metadata": {
    "scrolled": true
   },
   "outputs": [
    {
     "name": "stdout",
     "output_type": "stream",
     "text": [
      "STARTAAAAAAAGAAAAPAAAAAAAAAEND\n",
      "-----|||||||------|||||||||---\n",
      "-----AAAAAAA------AAAAAAAAA---\n",
      "\n",
      "7.200000000000001\n"
     ]
    },
    {
     "data": {
      "text/plain": [
       "'-----+++++++------+++++++++---'"
      ]
     },
     "execution_count": 49,
     "metadata": {},
     "output_type": "execute_result"
    }
   ],
   "source": [
    "get_mask(\"STARTAAAAAAAGAAAAPAAAAAAAAAEND\", \"AAAAAAAAAAAAAAAA\")"
   ]
  },
  {
   "cell_type": "code",
   "execution_count": 61,
   "metadata": {},
   "outputs": [
    {
     "name": "stdout",
     "output_type": "stream",
     "text": [
      "Multiple equally-scored alignments found.\n",
      "AAAAAAAAAAAAAAAENDDDAA\n",
      "||||||||||||||------||\n",
      "AAAAAAAAAAAAAA------AA\n",
      "\n",
      "AAAAAAAAAAAAAAAENDDDAA\n",
      "|||||||||||||||------|\n",
      "AAAAAAAAAAAAAAA------A\n",
      "\n",
      "12.0\n"
     ]
    },
    {
     "data": {
      "text/plain": [
       "'++++++++++++++------++'"
      ]
     },
     "execution_count": 61,
     "metadata": {},
     "output_type": "execute_result"
    }
   ],
   "source": [
    "get_mask(\"AAAAAAAAAAAAAAAENDDDAA\", \"AAAAAAAAAAAAAAAA\")"
   ]
  },
  {
   "cell_type": "code",
   "execution_count": 51,
   "metadata": {},
   "outputs": [],
   "source": [
    "tru = \"HHHHHHFNLPPGNYKKPKLLYCSNGGHFLRILPDGTVDGTRDRSDQHIQFQLSAESVGEVYIKSTETGQYLAMDTDGLVYGSQTPNEECLFLERLEENHYNTYISKKHAEKNWFLGLKKNGSVKRGPRTHYGQKAILFLPLPVSSD\"\n",
    "obs = \"HHHHHFNLPPGNYKKPKLLYCSNGGHFLRILPDGTVDGTRDRSDQHIQFQLSAESVGEVYIKSTETGQYLAMDTDGLVYGSQTPNEECLFLERLEENHYNTYISKKHAEKNWFLGLKKNGSVKRGPRTHYGQKAILFLPLPV\""
   ]
  },
  {
   "cell_type": "code",
   "execution_count": 52,
   "metadata": {},
   "outputs": [
    {
     "name": "stdout",
     "output_type": "stream",
     "text": [
      "HHHHHHFNLPPGNYKKPKLLYCSNGGHFLRILPDGTVDGTRDRSDQHIQFQLSAESVGEVYIKSTETGQYLAMDTDGLVYGSQTPNEECLFLERLEENHYNTYISKKHAEKNWFLGLKKNGSVKRGPRTHYGQKAILFLPLPVSSD\n",
      "-||||||||||||||||||||||||||||||||||||||||||||||||||||||||||||||||||||||||||||||||||||||||||||||||||||||||||||||||||||||||||||||||||||||||||||||---\n",
      "-HHHHHFNLPPGNYKKPKLLYCSNGGHFLRILPDGTVDGTRDRSDQHIQFQLSAESVGEVYIKSTETGQYLAMDTDGLVYGSQTPNEECLFLERLEENHYNTYISKKHAEKNWFLGLKKNGSVKRGPRTHYGQKAILFLPLPV---\n",
      "\n",
      "136.39999999999998\n"
     ]
    },
    {
     "data": {
      "text/plain": [
       "'-++++++++++++++++++++++++++++++++++++++++++++++++++++++++++++++++++++++++++++++++++++++++++++++++++++++++++++++++++++++++++++++++++++++++++++++---'"
      ]
     },
     "execution_count": 52,
     "metadata": {},
     "output_type": "execute_result"
    }
   ],
   "source": [
    "get_mask('HHHHHHFNLPPGNYKKPKLLYCSNGGHFLRILPDGTVDGTRDRSDQHIQFQLSAESVGEVYIKSTETGQYLAMDTDGLVYGSQTPNEECLFLERLEENHYNTYISKKHAEKNWFLGLKKNGSVKRGPRTHYGQKAILFLPLPVSSD', 'HHHHHFNLPPGNYKKPKLLYCSNGGHFLRILPDGTVDGTRDRSDQHIQFQLSAESVGEVYIKSTETGQYLAMDTDGLVYGSQTPNEECLFLERLEENHYNTYISKKHAEKNWFLGLKKNGSVKRGPRTHYGQKAILFLPLPV')"
   ]
  },
  {
   "cell_type": "code",
   "execution_count": 55,
   "metadata": {},
   "outputs": [],
   "source": [
    "obs = 'AFIEWYPRGYGVAFKIKKKIYEKLSKYQKIEVYETEGFGRLLALDGTVQLVTLGERSYHEPLVHPAMLAHPKPKRVLVIGGGDGGTVREVLQHDVDEVIMVEIDEDVIMVSKDLIKIDNGLLEAMLNGKHEKAKLTIGDGFEFIKNNRGFDVIIADSTDPVLFSEEFYRYVYDALNNPGIYVTQAGSVYLFTDELISAYKEMKKVFDRVYYYSFPVIGYASPWAFLVGVKGDIDFTKIDRERAKKLQLEYYDPLMHETLFQMPKYIRETLQ'\n",
    "tru = 'MERAFIEWYPRGYGVAFKIKKKIYEKLSKYQKIEVYETEGFGRLLALDGTVQLVTLGERSYHEPLVHPAMLAHPKPKRVLVIGGGDGGTVREVLQHDVDEVIMVEIDEDVIMVSKDLIKIDNGLLEAMLNGKHEKAKLTIGDGFEFIKNNRGFDVIIADSTDPVGPAKVLFSEEFYRYVYDALNNPGIYVTQAGSVYLFTDELISAYKEMKKVFDRVYYYSFPVIGYASPWAFLVGVKGDIDFTKIDRERAKKLQLEYYDPLMHETLFQMPKYIRETLQRL'"
   ]
  },
  {
   "cell_type": "code",
   "execution_count": 56,
   "metadata": {},
   "outputs": [
    {
     "name": "stdout",
     "output_type": "stream",
     "text": [
      "MERAFIEWYPRGYGVAFKIKKKIYEKLSKYQKIEVYETEGFGRLLALDGTVQLVTLGERSYHEPLVHPAMLAHPKPKRVLVIGGGDGGTVREVLQHDVDEVIMVEIDEDVIMVSKDLIKIDNGLLEAMLNGKHEKAKLTIGDGFEFIKNNRGFDVIIADSTDPVGPAKVLFSEEFYRYVYDALNNPGIYVTQAGSVYLFTDELISAYKEMKKVFDRVYYYSFPVIGYASPWAFLVGVKGDIDFTKIDRERAKKLQLEYYDPLMHETLFQMPKYIRETLQRL\n",
      "---||||||||||||||||||||||||||||||||||||||||||||||||||||||||||||||||||||||||||||||||||||||||||||||||||||||||||||||||||||||||||||||||||||||||||||||||||||||||||||||||-----|||||||||||||||||||||||||||||||||||||||||||||||||||||||||||||||||||||||||||||||||||||||||||||||||||||||||||||||--\n",
      "---AFIEWYPRGYGVAFKIKKKIYEKLSKYQKIEVYETEGFGRLLALDGTVQLVTLGERSYHEPLVHPAMLAHPKPKRVLVIGGGDGGTVREVLQHDVDEVIMVEIDEDVIMVSKDLIKIDNGLLEAMLNGKHEKAKLTIGDGFEFIKNNRGFDVIIADSTDP-----VLFSEEFYRYVYDALNNPGIYVTQAGSVYLFTDELISAYKEMKKVFDRVYYYSFPVIGYASPWAFLVGVKGDIDFTKIDRERAKKLQLEYYDPLMHETLFQMPKYIRETLQ--\n",
      "\n"
     ]
    }
   ],
   "source": [
    "print(a.align(tru, obs)[0])"
   ]
  },
  {
   "cell_type": "code",
   "execution_count": 57,
   "metadata": {},
   "outputs": [
    {
     "name": "stdout",
     "output_type": "stream",
     "text": [
      "MERAFIEWYPRGYGVAFKIKKKIYEKLSKYQKIEVYETEGFGRLLALDGTVQLVTLGERSYHEPLVHPAMLAHPKPKRVLVIGGGDGGTVREVLQHDVDEVIMVEIDEDVIMVSKDLIKIDNGLLEAMLNGKHEKAKLTIGDGFEFIKNNRGFDVIIADSTDPVGPAKVLFSEEFYRYVYDALNNPGIYVTQAGSVYLFTDELISAYKEMKKVFDRVYYYSFPVIGYASPWAFLVGVKGDIDFTKIDRERAKKLQLEYYDPLMHETLFQMPKYIRETLQRL\n",
      "---|||||||||||||||||||||||||||||||||||||||||||||||||||||||||||||||||||||||||||||||||||||||||||||||||||||||||||||||||||||||||||||||||||||||||||||||||||||||||||||||||-----||||||||||||||||||||||||||||||||||||||||||||||||||||||||||||||||||||||||||||||||||||||||||||||||||||||||||||||--\n",
      "---AFIEWYPRGYGVAFKIKKKIYEKLSKYQKIEVYETEGFGRLLALDGTVQLVTLGERSYHEPLVHPAMLAHPKPKRVLVIGGGDGGTVREVLQHDVDEVIMVEIDEDVIMVSKDLIKIDNGLLEAMLNGKHEKAKLTIGDGFEFIKNNRGFDVIIADSTDPV-----LFSEEFYRYVYDALNNPGIYVTQAGSVYLFTDELISAYKEMKKVFDRVYYYSFPVIGYASPWAFLVGVKGDIDFTKIDRERAKKLQLEYYDPLMHETLFQMPKYIRETLQ--\n",
      "\n"
     ]
    }
   ],
   "source": [
    "print(a.align(tru, obs)[1])"
   ]
  },
  {
   "cell_type": "markdown",
   "metadata": {},
   "source": [
    "# Method 2 `pairwise2`"
   ]
  },
  {
   "cell_type": "code",
   "execution_count": 38,
   "metadata": {},
   "outputs": [],
   "source": [
    "from Bio import pairwise2 as pw"
   ]
  },
  {
   "cell_type": "code",
   "execution_count": 60,
   "metadata": {},
   "outputs": [
    {
     "data": {
      "text/plain": [
       "[('STARTAAAAAAAAAAAAAA', '--A--AAAAAAAAAAAAAA', 7478.0, 0, 19)]"
      ]
     },
     "execution_count": 60,
     "metadata": {},
     "output_type": "execute_result"
    }
   ],
   "source": [
    "pw.align.globalms(\"STARTAAAAAAAAAAAAAA\", \"AAAAAAAAAAAAAAA\", 500, -9999, -10, -1, penalize_end_gaps=True)"
   ]
  },
  {
   "cell_type": "code",
   "execution_count": null,
   "metadata": {},
   "outputs": [],
   "source": []
  }
 ],
 "metadata": {
  "kernelspec": {
   "display_name": "Python (md3)",
   "language": "python",
   "name": "md3"
  },
  "language_info": {
   "codemirror_mode": {
    "name": "ipython",
    "version": 3
   },
   "file_extension": ".py",
   "mimetype": "text/x-python",
   "name": "python",
   "nbconvert_exporter": "python",
   "pygments_lexer": "ipython3",
   "version": "3.7.1"
  }
 },
 "nbformat": 4,
 "nbformat_minor": 2
}
