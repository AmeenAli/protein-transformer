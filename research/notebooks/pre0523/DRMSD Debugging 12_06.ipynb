{
 "cells": [
  {
   "cell_type": "code",
   "execution_count": 33,
   "metadata": {},
   "outputs": [],
   "source": [
    "import torch\n",
    "import numpy as np\n",
    "\n",
    "def angles2coords(angles):\n",
    "    \"\"\" Given an angle tensor, returns a coordinate tensor.\"\"\"\n",
    "    coords = initialize_backbone_array(angles)\n",
    "    for i in range(1, len(angles)):\n",
    "        coords = extend_backbone(i, angles, coords)\n",
    "    return torch.stack(coords)\n",
    "\n",
    "\n",
    "def initialize_backbone_array(angles):\n",
    "    \"\"\" Given an angle matrix (RES x ANG), this initializes the first 3 backbone points (which are arbitrary) and\n",
    "        returns a TensorArray of the size required to hold all the coordinates. \"\"\"\n",
    "    bondlens = {\"n-ca\": 1.442, \"ca-c\": 1.498, \"c-n\": 1.379}\n",
    "\n",
    "    a1 = torch.zeros(3)\n",
    "    a2 = a1 + torch.FloatTensor([bondlens[\"n-ca\"], 0, 0])\n",
    "    a3x = torch.cos(np.pi - angles[0,3]) * bondlens[\"ca-c\"]\n",
    "    a3y = torch.sin(np.pi - angles[0,3]) * bondlens['ca-c']\n",
    "    a3 = torch.FloatTensor([a3x, a3y, 0])\n",
    "    starting_coords = [a1, a2, a3]\n",
    "\n",
    "    return starting_coords\n",
    "\n",
    "\n",
    "def extend_backbone(i, angles, coords):\n",
    "    \"\"\" Returns backbone coordinates for the residue angles[pos].\"\"\"\n",
    "    bondlens = {\"n-ca\": 1.442, \"ca-c\": 1.498, \"c-n\": 1.379}\n",
    "\n",
    "    for j in range(3):\n",
    "        if j == 0:\n",
    "            # we are placing N\n",
    "            t = angles[i, 4]  # thetas[\"ca-c-n\"]\n",
    "            b = bondlens[\"c-n\"]\n",
    "            dihedral = angles[i - 1, 1]  # psi of previous residue\n",
    "        elif j == 1:\n",
    "            # we are placing Ca\n",
    "            t = angles[i, 5]  # thetas[\"c-n-ca\"]\n",
    "            b = bondlens[\"n-ca\"]\n",
    "            dihedral = angles[i - 1, 2]  # omega of previous residue\n",
    "        else:\n",
    "            # we are placing C\n",
    "            t = angles[i, 3]  # thetas[\"n-ca-c\"]\n",
    "            b = bondlens[\"ca-c\"]\n",
    "            dihedral = angles[i, 0]  # phi of current residue\n",
    "        p3 = coords[-3]\n",
    "        p2 = coords[-2]\n",
    "        p1 = coords[-1]\n",
    "        next_pt = nerf(p3, p2, p1, b, t, dihedral)\n",
    "        coords.append(next_pt)\n",
    "\n",
    "\n",
    "    return coords\n",
    "\n",
    "\n",
    "def l2_normalize(t, epsilon=torch.FloatTensor([1e-12])):\n",
    "    return t / torch.sqrt(torch.max((t**2).sum(), epsilon))\n",
    "\n",
    "\n"
   ]
  },
  {
   "cell_type": "code",
   "execution_count": 2,
   "metadata": {},
   "outputs": [],
   "source": [
    "import pickle\n",
    "with open(\"data/helix_train_only.pkl\", \"rb\") as f:\n",
    "    data = pickle.load(f)\n",
    "x = torch.FloatTensor(data[\"train\"][\"ang\"][0])"
   ]
  },
  {
   "cell_type": "code",
   "execution_count": 34,
   "metadata": {},
   "outputs": [],
   "source": [
    "coords = initialize_backbone_array(x)"
   ]
  },
  {
   "cell_type": "code",
   "execution_count": 35,
   "metadata": {},
   "outputs": [],
   "source": [
    "a, b, c = coords[0], coords[1], coords[2]"
   ]
  },
  {
   "cell_type": "code",
   "execution_count": 36,
   "metadata": {},
   "outputs": [],
   "source": [
    "def nerf(a, b, c, l, theta, chi, coord=None):\n",
    "    '''\n",
    "    Nerf method of finding 4th coord (d)\n",
    "    in cartesian space\n",
    "    Params:\n",
    "    a, b, c : coords of 3 points\n",
    "    l : bond length between c and d\n",
    "    theta : bond angle between b, c, d (in degrees)\n",
    "    chi : dihedral using a, b, c, d (in degrees)\n",
    "    Returns:\n",
    "    d : tuple of (x, y, z) in cartesian space\n",
    "    '''\n",
    "    # calculate unit vectors AB and BC\n",
    "\n",
    "    W_hat = l2_normalize(b - a)\n",
    "    x_hat = l2_normalize(c - b)\n",
    "\n",
    "    # calculate unit normals n = AB x BC\n",
    "    # and p = n x BC\n",
    "    n_unit = torch.cross(W_hat, x_hat)\n",
    "    z_hat = l2_normalize(n_unit)\n",
    "    y_hat = torch.cross(z_hat, x_hat)\n",
    "\n",
    "    # create rotation matrix [BC; p; n] (3x3)\n",
    "    M = torch.stack([x_hat, y_hat, z_hat], dim=1)\n",
    "\n",
    "    # calculate coord pre rotation matrix\n",
    "    d = torch.stack([torch.squeeze(-l * torch.cos(theta)),\n",
    "         torch.squeeze(l * torch.sin(theta) * torch.cos(chi)),\n",
    "         torch.squeeze(l * torch.sin(theta) * torch.sin(chi))])\n",
    "\n",
    "    # calculate with rotation as our final output\n",
    "    \n",
    "    d = d.unsqueeze(1)\n",
    "\n",
    "    res = c + torch.mm(M, d).squeeze()\n",
    "\n",
    "    return res.squeeze()\n"
   ]
  },
  {
   "cell_type": "code",
   "execution_count": 39,
   "metadata": {},
   "outputs": [
    {
     "data": {
      "text/plain": [
       "'1DX7_A'"
      ]
     },
     "execution_count": 39,
     "metadata": {},
     "output_type": "execute_result"
    }
   ],
   "source": [
    "data[\"train\"][\"ids\"][0]"
   ]
  },
  {
   "cell_type": "code",
   "execution_count": 41,
   "metadata": {},
   "outputs": [],
   "source": [
    "out = np.array(angles2coords(x))\n",
    "d = {\"1DX7_A\": out}"
   ]
  },
  {
   "cell_type": "code",
   "execution_count": 42,
   "metadata": {},
   "outputs": [],
   "source": [
    "with open(\"test.pkl\", \"wb\") as f:\n",
    "    pickle.dump(d, f)"
   ]
  },
  {
   "cell_type": "code",
   "execution_count": 43,
   "metadata": {},
   "outputs": [],
   "source": [
    "with open(\"test_py2.pkl\", \"wb\") as f:\n",
    "    pickle.dump(d, f, protocol=2)"
   ]
  },
  {
   "cell_type": "code",
   "execution_count": null,
   "metadata": {},
   "outputs": [],
   "source": []
  }
 ],
 "metadata": {
  "kernelspec": {
   "display_name": "Python3 (pytorch)",
   "language": "python",
   "name": "pytorch"
  },
  "language_info": {
   "codemirror_mode": {
    "name": "ipython",
    "version": 3
   },
   "file_extension": ".py",
   "mimetype": "text/x-python",
   "name": "python",
   "nbconvert_exporter": "python",
   "pygments_lexer": "ipython3",
   "version": "3.6.6"
  }
 },
 "nbformat": 4,
 "nbformat_minor": 2
}
