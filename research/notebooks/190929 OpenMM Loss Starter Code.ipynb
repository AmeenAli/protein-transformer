{
 "cells": [
  {
   "cell_type": "code",
   "execution_count": 1,
   "metadata": {},
   "outputs": [],
   "source": [
    "import torch\n",
    "import sys\n",
    "import os\n",
    "os.chdir(\"../../\")\n",
    "\n",
    "# sys.path.append(\"../../scripts/\")\n",
    "# sys.path.append(\"../../protein/\")"
   ]
  },
  {
   "cell_type": "code",
   "execution_count": 36,
   "metadata": {},
   "outputs": [],
   "source": [
    "from scripts import proteinnet2pytorch as p2p\n",
    "import prody as pr\n",
    "from structure_utils import angle_list_to_sin_cos, seq_to_onehot"
   ]
  },
  {
   "cell_type": "code",
   "execution_count": 10,
   "metadata": {},
   "outputs": [
    {
     "data": {
      "text/plain": [
       "<Chain: A from 2ldj (20 residues, 314 atoms)>"
      ]
     },
     "execution_count": 10,
     "metadata": {},
     "output_type": "execute_result"
    }
   ],
   "source": []
  },
  {
   "cell_type": "code",
   "execution_count": 12,
   "metadata": {
    "scrolled": true
   },
   "outputs": [],
   "source": [
    "p, header = pr.parsePDB(\"research/notebooks/2ldj.pdb\", chain=\"A\", header=True)\n",
    "seq = header[\"A\"].sequence"
   ]
  },
  {
   "cell_type": "code",
   "execution_count": 45,
   "metadata": {},
   "outputs": [],
   "source": [
    "dihedrals, coords, sequence = p2p.get_seq_and_masked_coords_and_angles(p, seq)\n"
   ]
  },
  {
   "cell_type": "code",
   "execution_count": 46,
   "metadata": {},
   "outputs": [],
   "source": [
    "dihedrals = angle_list_to_sin_cos([dihedrals])[0]"
   ]
  },
  {
   "cell_type": "code",
   "execution_count": 47,
   "metadata": {},
   "outputs": [],
   "source": [
    "sequence = seq_to_onehot(sequence)"
   ]
  },
  {
   "cell_type": "code",
   "execution_count": 51,
   "metadata": {},
   "outputs": [],
   "source": [
    "import numpy as np"
   ]
  },
  {
   "cell_type": "code",
   "execution_count": 55,
   "metadata": {},
   "outputs": [
    {
     "data": {
      "text/plain": [
       "True"
      ]
     },
     "execution_count": 55,
     "metadata": {},
     "output_type": "execute_result"
    }
   ],
   "source": [
    "np.isnan(dihedrals).all(axis=-1).any()"
   ]
  },
  {
   "cell_type": "code",
   "execution_count": 48,
   "metadata": {},
   "outputs": [],
   "source": [
    "dataset = {\"train\": {\"seq\": [sequence],\n",
    "                     \"ang\": [dihedrals],\n",
    "                     \"crd\": [coords],\n",
    "                     \"ids\": [\"2ldj\"]},\n",
    "           \"valid\": {\"seq\": [sequence],\n",
    "                     \"ang\": [dihedrals],\n",
    "                     \"crd\": [coords],\n",
    "                     \"ids\": [\"2ldj\"]},\n",
    "           \"test\": {\"seq\": [sequence],\n",
    "                     \"ang\": [dihedrals],\n",
    "                     \"crd\": [coords],\n",
    "                     \"ids\": [\"2ldj\"]},\n",
    "           \"settings\": {\"max_len\": len(sequence)}\n",
    "          }"
   ]
  },
  {
   "cell_type": "code",
   "execution_count": 49,
   "metadata": {},
   "outputs": [],
   "source": [
    "torch.save(dataset, \"trp_cage.pt\")"
   ]
  }
 ],
 "metadata": {
  "kernelspec": {
   "display_name": "Python (pytorch_src2)",
   "language": "python",
   "name": "pytorch_src2"
  },
  "language_info": {
   "codemirror_mode": {
    "name": "ipython",
    "version": 3
   },
   "file_extension": ".py",
   "mimetype": "text/x-python",
   "name": "python",
   "nbconvert_exporter": "python",
   "pygments_lexer": "ipython3",
   "version": "3.6.8"
  }
 },
 "nbformat": 4,
 "nbformat_minor": 2
}
