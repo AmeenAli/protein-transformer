{
 "cells": [
  {
   "cell_type": "code",
   "execution_count": null,
   "metadata": {},
   "outputs": [],
   "source": [
    "import prody as pr\n",
    "import numpy as np\n",
    "import pandas as pd"
   ]
  },
  {
   "cell_type": "code",
   "execution_count": null,
   "metadata": {},
   "outputs": [],
   "source": [
    "ASTRAL_FILE = \"../../data/dir.des.scope.2.07-stable.txt\""
   ]
  },
  {
   "cell_type": "code",
   "execution_count": null,
   "metadata": {
    "scrolled": true
   },
   "outputs": [],
   "source": [
    "!head -n100 $ASTRAL_FILE"
   ]
  },
  {
   "cell_type": "code",
   "execution_count": null,
   "metadata": {},
   "outputs": [],
   "source": [
    "def parse_ASTRAL_summary_file(path):\n",
    "    d = {}\n",
    "    for line in open(path, \"r\").readlines():\n",
    "        if line.startswith(\"#\"):\n",
    "            continue\n",
    "        line_items = line.split()\n",
    "        if line_items[3] == \"-\":\n",
    "            continue\n",
    "        d[line_items[3]] = (line_items[4], line_items[5])\n",
    "    return d\n",
    "\n",
    "d = parse_ASTRAL_summary_file(ASTRAL_FILE)"
   ]
  },
  {
   "cell_type": "code",
   "execution_count": null,
   "metadata": {},
   "outputs": [],
   "source": [
    "d[\"d1idrb_\"]"
   ]
  },
  {
   "cell_type": "code",
   "execution_count": null,
   "metadata": {},
   "outputs": [],
   "source": [
    "d[\"d1dyqa2\"]"
   ]
  },
  {
   "cell_type": "code",
   "execution_count": null,
   "metadata": {},
   "outputs": [],
   "source": [
    "d[\"d1p53b2\"]"
   ]
  },
  {
   "cell_type": "code",
   "execution_count": null,
   "metadata": {},
   "outputs": [],
   "source": [
    "def parse_ASTRAL(astral_id):\n",
    "    pdbid, chain = d[astral_id]\n",
    "    assert \",\" not in chain, f\"Issue parsing {astral_id} with chain {chain} and pdbid {pdbid}.\"\n",
    "    chain, resnums = chain.split(\":\")\n",
    "#     resnums = ''.join(i for i in resnums if (i.isdigit() or i == \"-\"))\n",
    "    a = pr.parsePDB(pdbid, chain=chain)\n",
    "    if resnums != \"\":\n",
    "        if resnums[0] == \"-\":\n",
    "            # Ranges with negative numbers must be escaped with ` character\n",
    "            a = a.select(f\"resnum `{resnums[0] + resnums[1:].replace('-', ' to ')}`\")\n",
    "        else:\n",
    "            a = a.select(f\"resnum {resnums.replace('-', ' to ')}\")\n",
    "    return a\n",
    "    "
   ]
  },
  {
   "cell_type": "code",
   "execution_count": null,
   "metadata": {},
   "outputs": [],
   "source": [
    "ids = open(\"/home/jok120/proteinnet/data/casp7/raw/training_100.ids\").readlines()\n",
    "ids[:10]"
   ]
  },
  {
   "cell_type": "code",
   "execution_count": null,
   "metadata": {},
   "outputs": [],
   "source": [
    "from tqdm import tqdm"
   ]
  },
  {
   "cell_type": "code",
   "execution_count": null,
   "metadata": {
    "scrolled": true
   },
   "outputs": [],
   "source": [
    "for i in tqdm(ids):\n",
    "    x = i.split(\"_\")\n",
    "    if len(x) is 2:\n",
    "        astral, pdb = x[1].strip(), x[0]\n",
    "        try:\n",
    "            a = parse_ASTRAL(astral.replace(\"-\", \"_\"))\n",
    "        except KeyError:\n",
    "            print(i)\n",
    "        except Exception as e:\n",
    "            print(i)\n",
    "            print(e)\n",
    "    else:\n",
    "        continue"
   ]
  },
  {
   "cell_type": "code",
   "execution_count": null,
   "metadata": {},
   "outputs": [],
   "source": [
    "a = pr.parsePDB(\"1ll0\")"
   ]
  },
  {
   "cell_type": "code",
   "execution_count": null,
   "metadata": {},
   "outputs": [],
   "source": [
    "a"
   ]
  },
  {
   "cell_type": "code",
   "execution_count": null,
   "metadata": {},
   "outputs": [],
   "source": [
    "a.calpha.getResnums()"
   ]
  },
  {
   "cell_type": "code",
   "execution_count": null,
   "metadata": {},
   "outputs": [],
   "source": [
    "a.select(\"resnum -1 to 259\")"
   ]
  },
  {
   "cell_type": "code",
   "execution_count": null,
   "metadata": {},
   "outputs": [],
   "source": [
    "a.select(\"resnum -1to259\")"
   ]
  },
  {
   "cell_type": "code",
   "execution_count": null,
   "metadata": {},
   "outputs": [],
   "source": []
  }
 ],
 "metadata": {
  "kernelspec": {
   "display_name": "Python (pytorch_src2)",
   "language": "python",
   "name": "pytorch_src2"
  },
  "language_info": {
   "codemirror_mode": {
    "name": "ipython",
    "version": 3
   },
   "file_extension": ".py",
   "mimetype": "text/x-python",
   "name": "python",
   "nbconvert_exporter": "python",
   "pygments_lexer": "ipython3",
   "version": "3.6.8"
  }
 },
 "nbformat": 4,
 "nbformat_minor": 2
}
