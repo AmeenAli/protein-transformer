{
 "cells": [
  {
   "cell_type": "code",
   "execution_count": 1,
   "metadata": {},
   "outputs": [],
   "source": [
    "import numpy as np\n",
    "import torch"
   ]
  },
  {
   "cell_type": "code",
   "execution_count": 2,
   "metadata": {},
   "outputs": [],
   "source": [
    "path = '/home/jok120/protein-transformer/data/proteinnet/casp12_190808_30.pt'"
   ]
  },
  {
   "cell_type": "code",
   "execution_count": 3,
   "metadata": {},
   "outputs": [],
   "source": [
    "d2 = torch.load(path)"
   ]
  },
  {
   "cell_type": "code",
   "execution_count": 4,
   "metadata": {},
   "outputs": [],
   "source": [
    "VALID_SPLITS = [10, 20, 30, 40, 50, 70, 90]\n",
    "def down_sample_data(d, n=96):\n",
    "    new_subsets = []\n",
    "    for subset in [d[\"train\"], d[\"test\"]] + [d[\"valid\"][split] for split in VALID_SPLITS]:\n",
    "        num_items = len(subset[\"seq\"])\n",
    "        num_ids = n if num_items > n else num_items\n",
    "        ids = np.random.choice(np.arange(0, num_items), size=num_ids, replace=False)\n",
    "        new_subset_dict = {\"ang\": downsample_list(subset[\"ang\"], ids),\n",
    "                           \"ids\": downsample_list(subset[\"ids\"], ids),\n",
    "                           \"crd\": downsample_list(subset[\"crd\"], ids),\n",
    "                           \"seq\": downsample_list(subset[\"seq\"], ids)}\n",
    "        \n",
    "        new_subsets.append(new_subset_dict)\n",
    "    new_d = {\"train\": new_subsets[0],\n",
    "             \"test\": new_subsets[1],\n",
    "             \"valid\": {split: new_subsets[2+i] for (i, split) in enumerate(VALID_SPLITS)}}\n",
    "    other_items = {k:v for k, v in d.items() if k not in [\"train\", \"test\", \"valid\"]}\n",
    "    new_d.update(other_items)\n",
    "    return new_d\n",
    "        \n",
    "        \n",
    "def downsample_list(l, ids):\n",
    "    return [l[i] for i in ids]\n"
   ]
  },
  {
   "cell_type": "code",
   "execution_count": 5,
   "metadata": {},
   "outputs": [],
   "source": [
    "d3 = down_sample_data(d2)"
   ]
  },
  {
   "cell_type": "code",
   "execution_count": 6,
   "metadata": {},
   "outputs": [
    {
     "data": {
      "text/plain": [
       "dict_keys(['train', 'test', 'valid', 'settings', 'description', 'date'])"
      ]
     },
     "execution_count": 6,
     "metadata": {},
     "output_type": "execute_result"
    }
   ],
   "source": [
    "d3.keys()"
   ]
  },
  {
   "cell_type": "code",
   "execution_count": 7,
   "metadata": {},
   "outputs": [],
   "source": [
    "torch.save(d3, '/home/jok120/protein-transformer/data/proteinnet/casp12_190927_96downsample.pt')"
   ]
  },
  {
   "cell_type": "code",
   "execution_count": null,
   "metadata": {},
   "outputs": [],
   "source": [
    "!cp /home/jok120/protein-transformer/data/proteinnet/casp12_190809_30xsmall_mean.npy /home/jok120/protein-transformer/data/proteinnet/casp12_190927_96downsample_mean.npy"
   ]
  },
  {
   "cell_type": "code",
   "execution_count": 8,
   "metadata": {},
   "outputs": [],
   "source": [
    "d4 = down_sample_data(d2, n=24)"
   ]
  },
  {
   "cell_type": "code",
   "execution_count": 9,
   "metadata": {},
   "outputs": [],
   "source": [
    "torch.save(d4, '/home/jok120/protein-transformer/data/proteinnet/casp12_190927_24downsample.pt')"
   ]
  },
  {
   "cell_type": "code",
   "execution_count": null,
   "metadata": {},
   "outputs": [],
   "source": [
    "!cp /home/jok120/protein-transformer/data/proteinnet/casp12_190809_30xsmall_mean.npy /home/jok120/protein-transformer/data/proteinnet/casp12_190927_24downsample_mean.npy"
   ]
  },
  {
   "cell_type": "code",
   "execution_count": null,
   "metadata": {},
   "outputs": [],
   "source": []
  }
 ],
 "metadata": {
  "kernelspec": {
   "display_name": "Python (pytorch_src2)",
   "language": "python",
   "name": "pytorch_src2"
  },
  "language_info": {
   "codemirror_mode": {
    "name": "ipython",
    "version": 3
   },
   "file_extension": ".py",
   "mimetype": "text/x-python",
   "name": "python",
   "nbconvert_exporter": "python",
   "pygments_lexer": "ipython3",
   "version": "3.6.8"
  }
 },
 "nbformat": 4,
 "nbformat_minor": 2
}
