{
 "cells": [
  {
   "cell_type": "code",
   "execution_count": 1,
   "metadata": {
    "pycharm": {
     "is_executing": false
    }
   },
   "outputs": [],
   "source": [
    "import numpy as np\n",
    "import matplotlib\n",
    "import matplotlib.pyplot as plt\n",
    "import seaborn as sns\n",
    "import torch\n",
    "np.set_printoptions(suppress=True)"
   ]
  },
  {
   "cell_type": "code",
   "execution_count": 2,
   "metadata": {
    "pycharm": {
     "is_executing": false
    }
   },
   "outputs": [],
   "source": [
    "from importlib import reload\n",
    "import protein_transformer\n",
    "from protein_transformer.losses import mse_over_angles, mse_over_angles_numpy, inverse_trig_transform\n",
    "from protein_transformer.losses import angles_to_coords"
   ]
  },
  {
   "cell_type": "code",
   "execution_count": 24,
   "metadata": {
    "pycharm": {
     "is_executing": true
    }
   },
   "outputs": [],
   "source": [
    "data = torch.load(\"../../data/proteinnet/casp12_191101_100.pt\")"
   ]
  },
  {
   "cell_type": "code",
   "execution_count": 4,
   "metadata": {
    "pycharm": {
     "is_executing": true
    }
   },
   "outputs": [],
   "source": [
    "def add_noise(angs, stdev, truncate=True, keep_zeros=False):\n",
    "    noise = np.random.normal(0, stdev, angs.shape)\n",
    "    new_ang = angs + noise\n",
    "    if truncate:\n",
    "        new_ang[new_ang > 1] = 1\n",
    "        new_ang[new_ang < -1] = -1\n",
    "    if keep_zeros:\n",
    "        new_ang[angs == 0] = 0\n",
    "    return new_ang\n",
    "\n",
    "def rmse(a, b):\n",
    "    return np.sqrt(((a-b)**2).mean())"
   ]
  },
  {
   "cell_type": "code",
   "execution_count": 5,
   "metadata": {
    "pycharm": {
     "is_executing": true
    }
   },
   "outputs": [
    {
     "name": "stdout",
     "output_type": "stream",
     "text": [
      "0.9884343496134423\n",
      "0.6921556701212284\n",
      "0.6921556701212276\n",
      "0.6921556701212284\n"
     ]
    }
   ],
   "source": [
    "a = data[\"train\"][\"ang\"][0][:]\n",
    "a[np.isnan(a)] = 0\n",
    "np.random.seed(0)\n",
    "a_noise = add_noise(a, 1, truncate=False)\n",
    "np.random.seed(0)\n",
    "a_noise_truncate = add_noise(a, 1, truncate=True)\n",
    "print(rmse(a, a_noise))\n",
    "print(rmse(a, a_noise_truncate))\n",
    "\n",
    "a_torch, a_noise_truncate_torch = torch.tensor(a), torch.tensor(a_noise_truncate)\n",
    "print(torch.sqrt(mse_over_angles(a_torch.unsqueeze(dim=0), a_noise_truncate_torch.unsqueeze(dim=0))).item())\n",
    "print(np.sqrt(mse_over_angles_numpy(np.expand_dims(a, 0), np.expand_dims(a_noise_truncate, 0))))"
   ]
  },
  {
   "cell_type": "code",
   "execution_count": 54,
   "metadata": {
    "pycharm": {
     "is_executing": true
    }
   },
   "outputs": [
    {
     "name": "stdout",
     "output_type": "stream",
     "text": [
      "VVQTEERKKANQFDAPISIYEVHLGSWRRHTDNNFWLSYRELADQLVPYAKWMGFTHLELLPINEHPFDGSWGYQPTGLYAPTRRFGTRDDFRYFIDAAHAAGLNVILDWVPGHFPTDDFALAEFDGTNLYEHSDPREGYHQDWNTLIYNYGRREVSNFLVGNALYWIERFGIDALRVDAVASMIYRDYSRKEGEWIPNEFGGRENLEAIEFLRNTNRILGEQVSGAVTMAEESTDFPGVSRPQDMGGLGFWYKWNLGWMHDTLDYMKLDPVYRQYHHDKLTFGILYNYTENFVLPLSHDEVVHGKKSILDRMPGDAWQKFANLRAYYGWMWAFPGKKLLFMGNEFAQGREWNHDASLDWHLLEGGDNWHHGVQRLVRDLNLTYRHHKAMHELDFD\n",
      "[[        nan         nan -0.61309576 ...         nan         nan\n",
      "          nan]\n",
      " [ 0.04925986 -0.998786   -0.56961669 ...         nan         nan\n",
      "          nan]\n",
      " [ 0.2668489  -0.96373838 -0.51494968 ...         nan         nan\n",
      "          nan]\n",
      " ...\n",
      " [ 0.46206156 -0.88684785  0.84435623 ...         nan         nan\n",
      "          nan]\n",
      " [-0.36958297 -0.92919773  0.94677728 ...         nan         nan\n",
      "          nan]\n",
      " [-0.55308486 -0.83312492         nan ...         nan         nan\n",
      "          nan]]\n",
      "[[59.071 85.566  2.54 ]\n",
      " [59.864 84.713  3.412]\n",
      " [59.586 83.248  3.067]\n",
      " ...\n",
      " [   nan    nan    nan]\n",
      " [   nan    nan    nan]\n",
      " [   nan    nan    nan]]\n"
     ]
    }
   ],
   "source": [
    "i = 10\n",
    "for seq, ang, crd in zip(data[\"train\"][\"seq\"][i:], data[\"train\"][\"ang\"][i:], data[\"train\"][\"crd\"][i:]):\n",
    "    print(seq)\n",
    "    print(ang)\n",
    "    print(crd)\n",
    "    break"
   ]
  },
  {
   "cell_type": "code",
   "execution_count": null,
   "metadata": {},
   "outputs": [],
   "source": [
    "def angles_have_missing_res(angles):\n",
    "    return np.isnan(ang).all(axis=-1).any()"
   ]
  },
  {
   "cell_type": "code",
   "execution_count": 8,
   "metadata": {
    "pycharm": {
     "name": "#%%\n"
    }
   },
   "outputs": [],
   "source": [
    "def get_coordinates_from_numpy_data(seq, ang_sincos):\n",
    "    # Add batch dimension\n",
    "    ang_sincos = ang_sincos[np.newaxis, :]\n",
    "    \n",
    "    # Compute angles in radians from sin/cos representaion\n",
    "    ang_rad = inverse_trig_transform(torch.tensor(ang_sincos, dtype=torch.float))[0]\n",
    "    \n",
    "    # Remove nans\n",
    "    ang_rad[torch.isnan(ang_rad)] = 0\n",
    "    \n",
    "    if torch.isnan(ang_rad).any():\n",
    "        print(\"Nan in ang_rad.\")\n",
    "        \n",
    "    seq_as_ints = protein_transformer.dataset.VOCAB.aa_seq2indices(seq, add_sos_eos=False)\n",
    "    seq_as_ints = torch.tensor(seq_as_ints, dtype=torch.long)\n",
    "    \n",
    "    coords = angles_to_coords(ang_rad, seq_as_ints, remove_batch_padding=False)\n",
    "    return coords\n",
    "    \n",
    "    "
   ]
  },
  {
   "cell_type": "code",
   "execution_count": 9,
   "metadata": {
    "pycharm": {
     "is_executing": false
    }
   },
   "outputs": [],
   "source": [
    "def add_noise_and_get_rmse_drmsd(seq, ang, crd, stdev):\n",
    "    \n",
    "    noisy_ang = add_noise(ang, stdev, truncate=True, keep_zeros=False)\n",
    "#     print(noisy_ang -ang)\n",
    "    \n",
    "    coords = get_coordinates_from_numpy_data(seq, ang)\n",
    "    noisy_coords = get_coordinates_from_numpy_data(seq, noisy_ang)\n",
    "    \n",
    "    rmse_val = np.sqrt(mse_over_angles_numpy(noisy_ang[np.newaxis, :], ang[np.newaxis, :]))\n",
    "    drmsd_val = protein_transformer.losses.drmsd(coords, noisy_coords)\n",
    "    \n",
    "    crd[np.isnan(crd)] = 0\n",
    "    crd[(coords == 0).all(dim=1)] = 0\n",
    "    reconstruction_drmsd = protein_transformer.losses.drmsd(coords, torch.tensor(crd))\n",
    "    self_drmsd_1 = protein_transformer.losses.drmsd(coords, coords)\n",
    "    self_drmsd_2 = protein_transformer.losses.drmsd(torch.tensor(crd), torch.tensor(crd))\n",
    "    \n",
    "    return rmse_val, drmsd_val, reconstruction_drmsd, coords, self_drmsd_1, self_drmsd_2\n",
    "    \n",
    "    "
   ]
  },
  {
   "cell_type": "code",
   "execution_count": 10,
   "metadata": {
    "pycharm": {
     "is_executing": false,
     "name": "#%%\n"
    }
   },
   "outputs": [
    {
     "name": "stderr",
     "output_type": "stream",
     "text": [
      "/home/jok120/anaconda3/envs/psp/lib/python3.7/site-packages/ipykernel_launcher.py:5: RuntimeWarning: invalid value encountered in greater\n",
      "  \"\"\"\n",
      "/home/jok120/anaconda3/envs/psp/lib/python3.7/site-packages/ipykernel_launcher.py:6: RuntimeWarning: invalid value encountered in less\n",
      "  \n"
     ]
    },
    {
     "name": "stdout",
     "output_type": "stream",
     "text": [
      "RMSD:\t\t0.6890,\n",
      "DRMSD:\t\t7.49,\n",
      "DRMSD-rec:\t24.47,\n",
      "Self-d1:\t0.0,\n",
      "Self-d2:\t0.0\n"
     ]
    }
   ],
   "source": [
    "r, d, d_recon, c, sd1, sd2 = add_noise_and_get_rmse_drmsd(seq, ang, crd, 1)\n",
    "print(f\"RMSD:\\t\\t{r:.4f},\\nDRMSD:\\t\\t{d:.2f},\\nDRMSD-rec:\\t{d_recon:.2f},\\nSelf-d1:\\t{sd1},\\nSelf-d2:\\t{sd2}\")"
   ]
  },
  {
   "cell_type": "code",
   "execution_count": null,
   "metadata": {},
   "outputs": [],
   "source": [
    "c"
   ]
  },
  {
   "cell_type": "code",
   "execution_count": 11,
   "metadata": {},
   "outputs": [],
   "source": [
    "from protein_transformer.protein.PDB_Creator import PDB_Creator\n",
    "creator1 = PDB_Creator(c.numpy(), seq=seq)\n",
    "creator2 = PDB_Creator(crd, seq=seq)"
   ]
  },
  {
   "cell_type": "code",
   "execution_count": 12,
   "metadata": {},
   "outputs": [],
   "source": [
    "creator1.save_pdb(\"reconstructed.pdb\")"
   ]
  },
  {
   "cell_type": "code",
   "execution_count": 13,
   "metadata": {},
   "outputs": [],
   "source": [
    "creator2.save_pdb(\"original.pdb\")"
   ]
  },
  {
   "cell_type": "code",
   "execution_count": null,
   "metadata": {},
   "outputs": [],
   "source": [
    "pwd1 = protein_transformer.losses.pairwise_internal_dist(c)\n",
    "pwd2 = protein_transformer.losses.pairwise_internal_dist(torch.tensor(crd))"
   ]
  },
  {
   "cell_type": "code",
   "execution_count": null,
   "metadata": {},
   "outputs": [],
   "source": [
    "pwd2"
   ]
  },
  {
   "cell_type": "code",
   "execution_count": null,
   "metadata": {},
   "outputs": [],
   "source": [
    "pwd1"
   ]
  },
  {
   "cell_type": "code",
   "execution_count": null,
   "metadata": {
    "scrolled": true
   },
   "outputs": [],
   "source": [
    "c.numpy()[:50]"
   ]
  },
  {
   "cell_type": "code",
   "execution_count": null,
   "metadata": {
    "scrolled": true
   },
   "outputs": [],
   "source": [
    "crd[:50]"
   ]
  },
  {
   "cell_type": "code",
   "execution_count": null,
   "metadata": {},
   "outputs": [],
   "source": [
    "torch.isnan(c).any(), np.isnan(crd).any() "
   ]
  },
  {
   "cell_type": "code",
   "execution_count": null,
   "metadata": {},
   "outputs": [],
   "source": [
    "ang"
   ]
  },
  {
   "cell_type": "code",
   "execution_count": null,
   "metadata": {},
   "outputs": [],
   "source": [
    "np.random.seed(0)\n",
    "ang_noisy = add_noise(ang, 1, truncate=True, keep_zeros=True)"
   ]
  },
  {
   "cell_type": "code",
   "execution_count": null,
   "metadata": {},
   "outputs": [],
   "source": [
    "ang_noisy = add_noise"
   ]
  },
  {
   "cell_type": "code",
   "execution_count": null,
   "metadata": {},
   "outputs": [],
   "source": [
    "c = get_coordinates_from_numpy_data(seq, ang)"
   ]
  },
  {
   "cell_type": "code",
   "execution_count": null,
   "metadata": {},
   "outputs": [],
   "source": [
    "c.shape"
   ]
  },
  {
   "cell_type": "code",
   "execution_count": null,
   "metadata": {},
   "outputs": [],
   "source": [
    "ang.shape"
   ]
  },
  {
   "cell_type": "code",
   "execution_count": null,
   "metadata": {},
   "outputs": [],
   "source": [
    "327*13"
   ]
  },
  {
   "cell_type": "code",
   "execution_count": null,
   "metadata": {},
   "outputs": [],
   "source": []
  }
 ],
 "metadata": {
  "kernelspec": {
   "display_name": "Python (psp)",
   "language": "python",
   "name": "myenv"
  },
  "language_info": {
   "codemirror_mode": {
    "name": "ipython",
    "version": 3
   },
   "file_extension": ".py",
   "mimetype": "text/x-python",
   "name": "python",
   "nbconvert_exporter": "python",
   "pygments_lexer": "ipython3",
   "version": "3.7.4"
  },
  "pycharm": {
   "stem_cell": {
    "cell_type": "raw",
    "metadata": {
     "collapsed": false
    },
    "source": []
   }
  }
 },
 "nbformat": 4,
 "nbformat_minor": 2
}
