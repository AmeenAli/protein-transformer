{
 "cells": [
  {
   "cell_type": "code",
   "execution_count": 1,
   "metadata": {
    "pycharm": {
     "is_executing": false
    }
   },
   "outputs": [],
   "source": [
    "import numpy as np\n",
    "import matplotlib\n",
    "import matplotlib.pyplot as plt\n",
    "import seaborn as sns\n",
    "import torch\n",
    "np.set_printoptions(suppress=True)"
   ]
  },
  {
   "cell_type": "code",
   "execution_count": 2,
   "metadata": {
    "pycharm": {
     "is_executing": false
    }
   },
   "outputs": [],
   "source": [
    "from importlib import reload\n",
    "import protein_transformer\n",
    "from protein_transformer.losses import mse_over_angles, mse_over_angles_numpy, inverse_trig_transform\n",
    "from protein_transformer.losses import angles_to_coords"
   ]
  },
  {
   "cell_type": "code",
   "execution_count": 3,
   "metadata": {
    "pycharm": {
     "is_executing": true
    }
   },
   "outputs": [],
   "source": [
    "data = torch.load(\"../../data/proteinnet/casp12_191101_100.pt\")"
   ]
  },
  {
   "cell_type": "code",
   "execution_count": 4,
   "metadata": {
    "pycharm": {
     "is_executing": true
    }
   },
   "outputs": [],
   "source": [
    "def add_noise(angs, stdev, truncate=True, keep_zeros=False):\n",
    "    noise = np.random.normal(0, stdev, angs.shape)\n",
    "    new_ang = angs + noise\n",
    "    if truncate:\n",
    "        new_ang[new_ang > 1] = 1\n",
    "        new_ang[new_ang < -1] = -1\n",
    "    if keep_zeros:\n",
    "        new_ang[angs == 0] = 0\n",
    "    return new_ang\n",
    "\n",
    "def rmse(a, b):\n",
    "    return np.sqrt(((a-b)**2).mean())"
   ]
  },
  {
   "cell_type": "code",
   "execution_count": 5,
   "metadata": {
    "pycharm": {
     "is_executing": true
    }
   },
   "outputs": [
    {
     "name": "stdout",
     "output_type": "stream",
     "text": [
      "0.9884343496134423\n",
      "0.6921556701212284\n",
      "0.6921556701212276\n",
      "0.6921556701212284\n"
     ]
    }
   ],
   "source": [
    "a = data[\"train\"][\"ang\"][0][:]\n",
    "a[np.isnan(a)] = 0\n",
    "np.random.seed(0)\n",
    "a_noise = add_noise(a, 1, truncate=False)\n",
    "np.random.seed(0)\n",
    "a_noise_truncate = add_noise(a, 1, truncate=True)\n",
    "print(rmse(a, a_noise))\n",
    "print(rmse(a, a_noise_truncate))\n",
    "\n",
    "a_torch, a_noise_truncate_torch = torch.tensor(a), torch.tensor(a_noise_truncate)\n",
    "print(torch.sqrt(mse_over_angles(a_torch.unsqueeze(dim=0), a_noise_truncate_torch.unsqueeze(dim=0))).item())\n",
    "print(np.sqrt(mse_over_angles_numpy(np.expand_dims(a, 0), np.expand_dims(a_noise_truncate, 0))))"
   ]
  },
  {
   "cell_type": "code",
   "execution_count": 10,
   "metadata": {},
   "outputs": [],
   "source": [
    "from protein_transformer.protein.structure_utils import get_backbone_from_full_coords"
   ]
  },
  {
   "cell_type": "code",
   "execution_count": null,
   "metadata": {},
   "outputs": [],
   "source": [
    "def angles_have_missing_res(angles):\n",
    "    return np.isnan(ang).all(axis=-1).any()"
   ]
  },
  {
   "cell_type": "code",
   "execution_count": 11,
   "metadata": {
    "pycharm": {
     "name": "#%%\n"
    }
   },
   "outputs": [],
   "source": [
    "def get_coordinates_from_numpy_data(seq, ang_sincos):\n",
    "    # Add batch dimension\n",
    "    ang_sincos = ang_sincos[np.newaxis, :]\n",
    "    \n",
    "    # Compute angles in radians from sin/cos representaion\n",
    "    ang_rad = inverse_trig_transform(torch.tensor(ang_sincos, dtype=torch.float))[0]\n",
    "    \n",
    "    # Remove nans\n",
    "    ang_rad[torch.isnan(ang_rad)] = 0\n",
    "    \n",
    "    if torch.isnan(ang_rad).any():\n",
    "        print(\"Nan in ang_rad.\")\n",
    "        \n",
    "    seq_as_ints = protein_transformer.dataset.VOCAB.aa_seq2indices(seq, add_sos_eos=False)\n",
    "    seq_as_ints = torch.tensor(seq_as_ints, dtype=torch.long)\n",
    "    \n",
    "    coords = angles_to_coords(ang_rad, seq_as_ints, remove_batch_padding=False)\n",
    "    coords = get_backbone_from_full_coords(coords)\n",
    "    return coords\n",
    "    \n",
    "    "
   ]
  },
  {
   "cell_type": "code",
   "execution_count": 12,
   "metadata": {
    "pycharm": {
     "is_executing": true
    }
   },
   "outputs": [
    {
     "name": "stdout",
     "output_type": "stream",
     "text": [
      "TGRPEWIWLALGTALMGLGTLYFLVKGMGVSDPDAKPFYAITTLVPAIAFTMYLSMLLGYGLTMVPFGGEQNPIYWARYADWLFTTPLLLLDLALLVDADQGTILALVGADGIMIGTGLVGALTKVYSYRFVWWAISTAAMLYILYVLFFGFTSKAESMRPEVASTFKVLRNVTVVLWSAYPVVWLIGSEGAGIVPLNIETLLFMVLDVSAKVGFGLILLRSRAIFG\n",
      "[[        nan         nan  0.95092025 ...         nan         nan\n",
      "          nan]\n",
      " [ 0.55080746  0.83463234  0.85758262 ...         nan         nan\n",
      "          nan]\n",
      " [ 0.54672625 -0.83731141 -0.77509018 ... -0.85431134  0.99999702\n",
      "   0.0024416 ]\n",
      " ...\n",
      " [ 0.0557567  -0.99844439  0.99982571 ...         nan         nan\n",
      "          nan]\n",
      " [-0.15643064 -0.98768895  0.3760204  ...         nan         nan\n",
      "          nan]\n",
      " [ 0.99868198 -0.05132552         nan ...         nan         nan\n",
      "          nan]]\n",
      "[[23.775 71.397 13.279]\n",
      " [24.255 72.119 12.067]\n",
      " [23.344 71.81  10.88 ]\n",
      " ...\n",
      " [   nan    nan    nan]\n",
      " [   nan    nan    nan]\n",
      " [   nan    nan    nan]]\n"
     ]
    }
   ],
   "source": [
    "i = 11\n",
    "for seq, ang, crd in zip(data[\"train\"][\"seq\"][i:], data[\"train\"][\"ang\"][i:], data[\"train\"][\"crd\"][i:]):\n",
    "    print(seq)\n",
    "    print(ang)\n",
    "    print(crd)\n",
    "    break"
   ]
  },
  {
   "cell_type": "code",
   "execution_count": 13,
   "metadata": {
    "pycharm": {
     "is_executing": false
    }
   },
   "outputs": [],
   "source": [
    "def add_noise_and_get_rmse_drmsd(seq, ang, crd, stdev):\n",
    "    \n",
    "    noisy_ang = add_noise(ang, stdev, truncate=True, keep_zeros=False)\n",
    "#     print(noisy_ang -ang)\n",
    "    \n",
    "    coords = get_coordinates_from_numpy_data(seq, ang)\n",
    "    noisy_coords = get_coordinates_from_numpy_data(seq, noisy_ang)\n",
    "    \n",
    "    rmse_val = np.sqrt(mse_over_angles_numpy(noisy_ang[np.newaxis, :], ang[np.newaxis, :]))\n",
    "    drmsd_val = protein_transformer.losses.drmsd(coords, noisy_coords)\n",
    "    \n",
    "    crd[np.isnan(crd)] = 0\n",
    "    crd[(coords == 0).all(dim=1)] = 0\n",
    "    reconstruction_drmsd = protein_transformer.losses.drmsd(coords, torch.tensor(crd))\n",
    "    self_drmsd_1 = protein_transformer.losses.drmsd(coords, coords)\n",
    "    self_drmsd_2 = protein_transformer.losses.drmsd(torch.tensor(crd), torch.tensor(crd))\n",
    "    \n",
    "    return rmse_val, drmsd_val, reconstruction_drmsd, coords, self_drmsd_1, self_drmsd_2\n",
    "    \n",
    "    "
   ]
  },
  {
   "cell_type": "code",
   "execution_count": 14,
   "metadata": {
    "pycharm": {
     "is_executing": false,
     "name": "#%%\n"
    }
   },
   "outputs": [
    {
     "name": "stderr",
     "output_type": "stream",
     "text": [
      "/home/jok120/anaconda3/envs/psp/lib/python3.7/site-packages/ipykernel_launcher.py:5: RuntimeWarning: invalid value encountered in greater\n",
      "  \"\"\"\n",
      "/home/jok120/anaconda3/envs/psp/lib/python3.7/site-packages/ipykernel_launcher.py:6: RuntimeWarning: invalid value encountered in less\n",
      "  \n"
     ]
    },
    {
     "ename": "IndexError",
     "evalue": "The shape of the mask [13] at index 0does not match the shape of the indexed tensor [2951, 3] at index 1",
     "output_type": "error",
     "traceback": [
      "\u001b[0;31m---------------------------------------------------------------------------\u001b[0m",
      "\u001b[0;31mIndexError\u001b[0m                                Traceback (most recent call last)",
      "\u001b[0;32m<ipython-input-14-172768fe1f3a>\u001b[0m in \u001b[0;36m<module>\u001b[0;34m\u001b[0m\n\u001b[0;32m----> 1\u001b[0;31m \u001b[0mr\u001b[0m\u001b[0;34m,\u001b[0m \u001b[0md\u001b[0m\u001b[0;34m,\u001b[0m \u001b[0md_recon\u001b[0m\u001b[0;34m,\u001b[0m \u001b[0mc\u001b[0m\u001b[0;34m,\u001b[0m \u001b[0msd1\u001b[0m\u001b[0;34m,\u001b[0m \u001b[0msd2\u001b[0m \u001b[0;34m=\u001b[0m \u001b[0madd_noise_and_get_rmse_drmsd\u001b[0m\u001b[0;34m(\u001b[0m\u001b[0mseq\u001b[0m\u001b[0;34m,\u001b[0m \u001b[0mang\u001b[0m\u001b[0;34m,\u001b[0m \u001b[0mcrd\u001b[0m\u001b[0;34m,\u001b[0m \u001b[0;36m1\u001b[0m\u001b[0;34m)\u001b[0m\u001b[0;34m\u001b[0m\u001b[0;34m\u001b[0m\u001b[0m\n\u001b[0m\u001b[1;32m      2\u001b[0m \u001b[0mprint\u001b[0m\u001b[0;34m(\u001b[0m\u001b[0;34mf\"RMSD:\\t\\t{r:.4f},\\nDRMSD:\\t\\t{d:.2f},\\nDRMSD-rec:\\t{d_recon:.2f},\\nSelf-d1:\\t{sd1},\\nSelf-d2:\\t{sd2}\"\u001b[0m\u001b[0;34m)\u001b[0m\u001b[0;34m\u001b[0m\u001b[0;34m\u001b[0m\u001b[0m\n",
      "\u001b[0;32m<ipython-input-13-653fed2387f7>\u001b[0m in \u001b[0;36madd_noise_and_get_rmse_drmsd\u001b[0;34m(seq, ang, crd, stdev)\u001b[0m\n\u001b[1;32m      4\u001b[0m \u001b[0;31m#     print(noisy_ang -ang)\u001b[0m\u001b[0;34m\u001b[0m\u001b[0;34m\u001b[0m\u001b[0;34m\u001b[0m\u001b[0m\n\u001b[1;32m      5\u001b[0m \u001b[0;34m\u001b[0m\u001b[0m\n\u001b[0;32m----> 6\u001b[0;31m     \u001b[0mcoords\u001b[0m \u001b[0;34m=\u001b[0m \u001b[0mget_coordinates_from_numpy_data\u001b[0m\u001b[0;34m(\u001b[0m\u001b[0mseq\u001b[0m\u001b[0;34m,\u001b[0m \u001b[0mang\u001b[0m\u001b[0;34m)\u001b[0m\u001b[0;34m\u001b[0m\u001b[0;34m\u001b[0m\u001b[0m\n\u001b[0m\u001b[1;32m      7\u001b[0m     \u001b[0mnoisy_coords\u001b[0m \u001b[0;34m=\u001b[0m \u001b[0mget_coordinates_from_numpy_data\u001b[0m\u001b[0;34m(\u001b[0m\u001b[0mseq\u001b[0m\u001b[0;34m,\u001b[0m \u001b[0mnoisy_ang\u001b[0m\u001b[0;34m)\u001b[0m\u001b[0;34m\u001b[0m\u001b[0;34m\u001b[0m\u001b[0m\n\u001b[1;32m      8\u001b[0m \u001b[0;34m\u001b[0m\u001b[0m\n",
      "\u001b[0;32m<ipython-input-11-26d59d24184a>\u001b[0m in \u001b[0;36mget_coordinates_from_numpy_data\u001b[0;34m(seq, ang_sincos)\u001b[0m\n\u001b[1;32m     16\u001b[0m \u001b[0;34m\u001b[0m\u001b[0m\n\u001b[1;32m     17\u001b[0m     \u001b[0mcoords\u001b[0m \u001b[0;34m=\u001b[0m \u001b[0mangles_to_coords\u001b[0m\u001b[0;34m(\u001b[0m\u001b[0mang_rad\u001b[0m\u001b[0;34m,\u001b[0m \u001b[0mseq_as_ints\u001b[0m\u001b[0;34m,\u001b[0m \u001b[0mremove_batch_padding\u001b[0m\u001b[0;34m=\u001b[0m\u001b[0;32mFalse\u001b[0m\u001b[0;34m)\u001b[0m\u001b[0;34m\u001b[0m\u001b[0;34m\u001b[0m\u001b[0m\n\u001b[0;32m---> 18\u001b[0;31m     \u001b[0mcoords\u001b[0m \u001b[0;34m=\u001b[0m \u001b[0mget_backbone_from_full_coords\u001b[0m\u001b[0;34m(\u001b[0m\u001b[0mcoords\u001b[0m\u001b[0;34m)\u001b[0m\u001b[0;34m\u001b[0m\u001b[0;34m\u001b[0m\u001b[0m\n\u001b[0m\u001b[1;32m     19\u001b[0m     \u001b[0;32mreturn\u001b[0m \u001b[0mcoords\u001b[0m\u001b[0;34m\u001b[0m\u001b[0;34m\u001b[0m\u001b[0m\n\u001b[1;32m     20\u001b[0m \u001b[0;34m\u001b[0m\u001b[0m\n",
      "\u001b[0;32m~/protein-transformer/protein_transformer/protein/structure_utils.py\u001b[0m in \u001b[0;36mget_backbone_from_full_coords\u001b[0;34m(crds, invert)\u001b[0m\n\u001b[1;32m     24\u001b[0m         \u001b[0mmask\u001b[0m \u001b[0;34m=\u001b[0m \u001b[0mnp\u001b[0m\u001b[0;34m.\u001b[0m\u001b[0minvert\u001b[0m\u001b[0;34m(\u001b[0m\u001b[0mmask\u001b[0m\u001b[0;34m)\u001b[0m\u001b[0;34m\u001b[0m\u001b[0;34m\u001b[0m\u001b[0m\n\u001b[1;32m     25\u001b[0m     \u001b[0;32mif\u001b[0m \u001b[0mlen\u001b[0m\u001b[0;34m(\u001b[0m\u001b[0mcrds\u001b[0m\u001b[0;34m.\u001b[0m\u001b[0mshape\u001b[0m\u001b[0;34m)\u001b[0m \u001b[0;34m==\u001b[0m \u001b[0;36m2\u001b[0m\u001b[0;34m:\u001b[0m\u001b[0;34m\u001b[0m\u001b[0;34m\u001b[0m\u001b[0m\n\u001b[0;32m---> 26\u001b[0;31m         \u001b[0;32mreturn\u001b[0m \u001b[0mcrds\u001b[0m\u001b[0;34m[\u001b[0m\u001b[0;34m:\u001b[0m\u001b[0;34m,\u001b[0m\u001b[0mmask\u001b[0m\u001b[0;34m]\u001b[0m\u001b[0;34m\u001b[0m\u001b[0;34m\u001b[0m\u001b[0m\n\u001b[0m\u001b[1;32m     27\u001b[0m     \u001b[0;32melse\u001b[0m\u001b[0;34m:\u001b[0m\u001b[0;34m\u001b[0m\u001b[0;34m\u001b[0m\u001b[0m\n\u001b[1;32m     28\u001b[0m         \u001b[0;32mreturn\u001b[0m \u001b[0mcrds\u001b[0m\u001b[0;34m[\u001b[0m\u001b[0;34m:\u001b[0m\u001b[0;34m,\u001b[0m\u001b[0;34m:\u001b[0m\u001b[0;34m,\u001b[0m\u001b[0mmask\u001b[0m\u001b[0;34m]\u001b[0m\u001b[0;34m\u001b[0m\u001b[0;34m\u001b[0m\u001b[0m\n",
      "\u001b[0;31mIndexError\u001b[0m: The shape of the mask [13] at index 0does not match the shape of the indexed tensor [2951, 3] at index 1"
     ]
    }
   ],
   "source": [
    "r, d, d_recon, c, sd1, sd2 = add_noise_and_get_rmse_drmsd(seq, ang, crd, 1)\n",
    "print(f\"RMSD:\\t\\t{r:.4f},\\nDRMSD:\\t\\t{d:.2f},\\nDRMSD-rec:\\t{d_recon:.2f},\\nSelf-d1:\\t{sd1},\\nSelf-d2:\\t{sd2}\")"
   ]
  },
  {
   "cell_type": "code",
   "execution_count": null,
   "metadata": {},
   "outputs": [],
   "source": [
    "c"
   ]
  },
  {
   "cell_type": "code",
   "execution_count": null,
   "metadata": {},
   "outputs": [],
   "source": [
    "from protein_transformer.protein.PDB_Creator import PDB_Creator\n",
    "creator1 = PDB_Creator(c.numpy(), seq=seq)\n",
    "creator2 = PDB_Creator(crd, seq=seq)"
   ]
  },
  {
   "cell_type": "code",
   "execution_count": null,
   "metadata": {},
   "outputs": [],
   "source": [
    "creator1.save_pdb(\"reconstructed.pdb\")"
   ]
  },
  {
   "cell_type": "code",
   "execution_count": null,
   "metadata": {},
   "outputs": [],
   "source": [
    "creator2.save_pdb(\"original.pdb\")"
   ]
  },
  {
   "cell_type": "code",
   "execution_count": null,
   "metadata": {},
   "outputs": [],
   "source": [
    "pwd1 = protein_transformer.losses.pairwise_internal_dist(c)\n",
    "pwd2 = protein_transformer.losses.pairwise_internal_dist(torch.tensor(crd))"
   ]
  },
  {
   "cell_type": "code",
   "execution_count": null,
   "metadata": {},
   "outputs": [],
   "source": [
    "pwd2"
   ]
  },
  {
   "cell_type": "code",
   "execution_count": null,
   "metadata": {},
   "outputs": [],
   "source": [
    "pwd1"
   ]
  },
  {
   "cell_type": "code",
   "execution_count": null,
   "metadata": {
    "scrolled": true
   },
   "outputs": [],
   "source": [
    "c.numpy()[:50]"
   ]
  },
  {
   "cell_type": "code",
   "execution_count": null,
   "metadata": {
    "scrolled": true
   },
   "outputs": [],
   "source": [
    "crd[:50]"
   ]
  },
  {
   "cell_type": "code",
   "execution_count": null,
   "metadata": {},
   "outputs": [],
   "source": [
    "torch.isnan(c).any(), np.isnan(crd).any() "
   ]
  },
  {
   "cell_type": "code",
   "execution_count": null,
   "metadata": {},
   "outputs": [],
   "source": [
    "ang"
   ]
  },
  {
   "cell_type": "code",
   "execution_count": null,
   "metadata": {},
   "outputs": [],
   "source": [
    "np.random.seed(0)\n",
    "ang_noisy = add_noise(ang, 1, truncate=True, keep_zeros=True)"
   ]
  },
  {
   "cell_type": "code",
   "execution_count": null,
   "metadata": {},
   "outputs": [],
   "source": [
    "ang_noisy = add_noise"
   ]
  },
  {
   "cell_type": "code",
   "execution_count": null,
   "metadata": {},
   "outputs": [],
   "source": [
    "c = get_coordinates_from_numpy_data(seq, ang)"
   ]
  },
  {
   "cell_type": "code",
   "execution_count": null,
   "metadata": {},
   "outputs": [],
   "source": [
    "c.shape"
   ]
  },
  {
   "cell_type": "code",
   "execution_count": null,
   "metadata": {},
   "outputs": [],
   "source": [
    "ang.shape"
   ]
  },
  {
   "cell_type": "code",
   "execution_count": null,
   "metadata": {},
   "outputs": [],
   "source": [
    "327*13"
   ]
  },
  {
   "cell_type": "code",
   "execution_count": null,
   "metadata": {},
   "outputs": [],
   "source": []
  }
 ],
 "metadata": {
  "kernelspec": {
   "display_name": "Python (psp)",
   "language": "python",
   "name": "myenv"
  },
  "language_info": {
   "codemirror_mode": {
    "name": "ipython",
    "version": 3
   },
   "file_extension": ".py",
   "mimetype": "text/x-python",
   "name": "python",
   "nbconvert_exporter": "python",
   "pygments_lexer": "ipython3",
   "version": "3.7.4"
  },
  "pycharm": {
   "stem_cell": {
    "cell_type": "raw",
    "metadata": {
     "collapsed": false
    },
    "source": []
   }
  }
 },
 "nbformat": 4,
 "nbformat_minor": 2
}
