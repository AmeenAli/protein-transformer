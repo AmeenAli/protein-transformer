{
 "cells": [
  {
   "cell_type": "code",
   "execution_count": 1,
   "metadata": {
    "pycharm": {
     "is_executing": false
    }
   },
   "outputs": [],
   "source": [
    "import numpy as np\n",
    "import matplotlib\n",
    "import matplotlib.pyplot as plt\n",
    "import seaborn as sns\n",
    "import torch\n",
    "np.set_printoptions(suppress=True)"
   ]
  },
  {
   "cell_type": "code",
   "execution_count": 2,
   "metadata": {
    "pycharm": {
     "is_executing": false
    }
   },
   "outputs": [],
   "source": [
    "from importlib import reload\n",
    "import protein_transformer\n",
    "from protein_transformer.losses import mse_over_angles, mse_over_angles_numpy, inverse_trig_transform\n",
    "from protein_transformer.losses import angles_to_coords"
   ]
  },
  {
   "cell_type": "code",
   "execution_count": 3,
   "metadata": {
    "pycharm": {
     "is_executing": true
    }
   },
   "outputs": [],
   "source": [
    "data = torch.load(\"../../data/proteinnet/casp12_191101_100.pt\")"
   ]
  },
  {
   "cell_type": "code",
   "execution_count": 4,
   "metadata": {
    "pycharm": {
     "is_executing": true
    }
   },
   "outputs": [],
   "source": [
    "def add_noise(angs, stdev, truncate=True, keep_zeros=False):\n",
    "    noise = np.random.normal(0, stdev, angs.shape)\n",
    "    new_ang = angs + noise\n",
    "    if truncate:\n",
    "        new_ang[new_ang > 1] = 1\n",
    "        new_ang[new_ang < -1] = -1\n",
    "    if keep_zeros:\n",
    "        new_ang[angs == 0] = 0\n",
    "    return new_ang\n",
    "\n",
    "def rmse(a, b):\n",
    "    return np.sqrt(((a-b)**2).mean())"
   ]
  },
  {
   "cell_type": "code",
   "execution_count": null,
   "metadata": {
    "pycharm": {
     "is_executing": true
    }
   },
   "outputs": [],
   "source": [
    "a = data[\"train\"][\"ang\"][0][:]\n",
    "a[np.isnan(a)] = 0\n",
    "np.random.seed(0)\n",
    "a_noise = add_noise(a, 1, truncate=False)\n",
    "np.random.seed(0)\n",
    "a_noise_truncate = add_noise(a, 1, truncate=True)\n",
    "print(rmse(a, a_noise))\n",
    "print(rmse(a, a_noise_truncate))\n",
    "\n",
    "a_torch, a_noise_truncate_torch = torch.tensor(a), torch.tensor(a_noise_truncate)\n",
    "print(torch.sqrt(mse_over_angles(a_torch.unsqueeze(dim=0), a_noise_truncate_torch.unsqueeze(dim=0))).item())\n",
    "print(np.sqrt(mse_over_angles_numpy(np.expand_dims(a, 0), np.expand_dims(a_noise_truncate, 0))))"
   ]
  },
  {
   "cell_type": "code",
   "execution_count": 5,
   "metadata": {},
   "outputs": [],
   "source": [
    "from protein_transformer.protein.structure_utils import get_backbone_from_full_coords"
   ]
  },
  {
   "cell_type": "code",
   "execution_count": 6,
   "metadata": {},
   "outputs": [],
   "source": [
    "def angles_have_missing_res(angles):\n",
    "    return np.isnan(angles).all(axis=-1).any()"
   ]
  },
  {
   "cell_type": "code",
   "execution_count": 7,
   "metadata": {
    "pycharm": {
     "name": "#%%\n"
    }
   },
   "outputs": [],
   "source": [
    "def get_coordinates_from_numpy_data(seq, ang_sincos):\n",
    "    # Add batch dimension\n",
    "    ang_sincos = ang_sincos[np.newaxis, :]\n",
    "    \n",
    "    # Compute angles in radians from sin/cos representaion\n",
    "    ang_rad = inverse_trig_transform(torch.tensor(ang_sincos, dtype=torch.float))[0]\n",
    "    \n",
    "    # Remove nans\n",
    "    ang_rad[torch.isnan(ang_rad)] = 0\n",
    "    \n",
    "    if torch.isnan(ang_rad).any():\n",
    "        print(\"Nan in ang_rad.\")\n",
    "        \n",
    "    seq_as_ints = protein_transformer.dataset.VOCAB.aa_seq2indices(seq, add_sos_eos=False)\n",
    "    seq_as_ints = torch.tensor(seq_as_ints, dtype=torch.long)\n",
    "    \n",
    "    coords = angles_to_coords(ang_rad, seq_as_ints, remove_batch_padding=False)\n",
    "    return coords\n",
    "    \n",
    "    "
   ]
  },
  {
   "cell_type": "code",
   "execution_count": null,
   "metadata": {
    "pycharm": {
     "is_executing": true
    }
   },
   "outputs": [],
   "source": [
    "i = 11\n",
    "for seq, ang, crd in zip(data[\"train\"][\"seq\"][i:], data[\"train\"][\"ang\"][i:], data[\"train\"][\"crd\"][i:]):\n",
    "    print(seq)\n",
    "    print(ang)\n",
    "    print(crd)\n",
    "    break"
   ]
  },
  {
   "cell_type": "code",
   "execution_count": 8,
   "metadata": {
    "pycharm": {
     "is_executing": false
    }
   },
   "outputs": [],
   "source": [
    "def add_noise_and_get_rmse_drmsd(seq, ang, crd, stdev):\n",
    "    \n",
    "    noisy_ang = add_noise(ang, stdev, truncate=True, keep_zeros=False)\n",
    "#     print(noisy_ang -ang)\n",
    "    \n",
    "    coords = get_coordinates_from_numpy_data(seq, ang)\n",
    "    noisy_coords = get_coordinates_from_numpy_data(seq, noisy_ang)\n",
    "    \n",
    "    coords = get_backbone_from_full_coords(coords)\n",
    "    noisy_coords = get_backbone_from_full_coords(noisy_coords)\n",
    "    \n",
    "    rmse_val = np.sqrt(mse_over_angles_numpy(noisy_ang[np.newaxis, :], ang[np.newaxis, :]))\n",
    "    drmsd_val = protein_transformer.losses.drmsd(coords, noisy_coords)\n",
    "    rmsd_val = protein_transformer.losses.rmsd(coords.numpy(), noisy_coords.numpy())\n",
    "    \n",
    "    crd[np.isnan(crd)] = 0\n",
    "    true_coords = get_backbone_from_full_coords(crd)\n",
    "    reconstruction_drmsd = protein_transformer.losses.drmsd(coords, torch.tensor(true_coords))\n",
    "    reconstruction_rmsd = protein_transformer.losses.rmsd(coords.numpy(), true_coords) \n",
    "    \n",
    "    return rmse_val, rmsd_val, drmsd_val, reconstruction_drmsd, reconstruction_rmsd\n",
    "    \n",
    "    "
   ]
  },
  {
   "cell_type": "code",
   "execution_count": null,
   "metadata": {
    "pycharm": {
     "is_executing": false,
     "name": "#%%\n"
    },
    "scrolled": true
   },
   "outputs": [],
   "source": [
    "rm, rd, d, d_recon, rd_recon = add_noise_and_get_rmse_drmsd(seq, ang, crd, 1)\n",
    "print(f\"RMSE:\\t\\t{rm:.4f},\\nRMSD:\\t\\t{rd:.4f},\\nRMSD-recon:\\t{rd_recon:.4f},\\nDRMSD:\\t\\t{d:.2f},\\nDRMSD-rec:\\t{d_recon:.2f}\")"
   ]
  },
  {
   "cell_type": "code",
   "execution_count": 9,
   "metadata": {},
   "outputs": [],
   "source": [
    "import tqdm"
   ]
  },
  {
   "cell_type": "code",
   "execution_count": 10,
   "metadata": {},
   "outputs": [],
   "source": [
    "def study_noise(stdev):\n",
    "    pbar = tqdm.tqdm(zip(data[\"train\"][\"seq\"], data[\"train\"][\"ang\"], data[\"train\"][\"crd\"]), total=len(data[\"train\"][\"seq\"]))\n",
    "    stats = {\"RMSE\": [], \"RMSD\": [], \"RMSD-recon\": [], \"DRMSD\" : [], \"DRMSD-recon\": [], \"lengths\" : []}\n",
    "    for seq, ang, crd in pbar:\n",
    "        rmse_total, rmsd_total, drmsd_total, drmsd_recon_total, rmsd_recon_total = 0, 0, 0, 0, 0\n",
    "        for i in range(10):\n",
    "            rm, rd, d, d_recon, rd_recon = add_noise_and_get_rmse_drmsd(seq, ang, crd, stdev)\n",
    "            rmse_total += rm\n",
    "            rmsd_total += rd\n",
    "            drmsd_total += d.item()\n",
    "            drmsd_recon_total += d_recon.item()\n",
    "            rmsd_recon_total += rd_recon\n",
    "            \n",
    "        stats[\"RMSE\"].append(rmse_total/10)\n",
    "        stats[\"RMSD\"].append(rmsd_total/10)\n",
    "        stats[\"RMSD-recon\"].append(rmsd_recon_total/10)\n",
    "        stats[\"DRMSD-recon\"].append(drmsd_recon_total/10)\n",
    "        stats[\"DRMSD\"].append(drmsd_total/10)\n",
    "        stats[\"lengths\"].append(ang.shape[0])\n",
    "        \n",
    "    return stats\n",
    "        "
   ]
  },
  {
   "cell_type": "code",
   "execution_count": null,
   "metadata": {
    "scrolled": true
   },
   "outputs": [],
   "source": [
    "study_noise(1)"
   ]
  },
  {
   "cell_type": "code",
   "execution_count": 11,
   "metadata": {},
   "outputs": [],
   "source": [
    "def work(seq_ang_crd_stdev):\n",
    "    seq, ang, crd, stdev = seq_ang_crd_stdev\n",
    "    if angles_have_missing_res(ang):\n",
    "        return np.nan, np.nan, np.nan, np.nan, np.nan, np.nan, np.nan\n",
    "    rmse_total, rmsd_total, drmsd_total, drmsd_recon_total, rmsd_recon_total = 0, 0, 0, 0, 0\n",
    "    n = 3\n",
    "    for i in range(3):\n",
    "        rm, rd, d, d_recon, rd_recon = add_noise_and_get_rmse_drmsd(seq, ang, crd, stdev)\n",
    "        rmse_total += rm\n",
    "        rmsd_total += rd\n",
    "        drmsd_total += d.item()\n",
    "        drmsd_recon_total += d_recon.item()\n",
    "        rmsd_recon_total += rd_recon\n",
    "    return rmse_total/n, rmsd_total/n, rmsd_recon_total/n, drmsd_total/n, drmsd_recon_total/n, ang.shape[0], stdev\n",
    "    "
   ]
  },
  {
   "cell_type": "code",
   "execution_count": null,
   "metadata": {},
   "outputs": [],
   "source": [
    "work((seq, ang, crd, 1))"
   ]
  },
  {
   "cell_type": "code",
   "execution_count": 12,
   "metadata": {
    "scrolled": true
   },
   "outputs": [
    {
     "name": "stderr",
     "output_type": "stream",
     "text": [
      "/home/jok120/anaconda3/envs/psp/lib/python3.7/site-packages/ipykernel_launcher.py:5: RuntimeWarning: invalid value encountered in greater\n",
      "  \"\"\"\n",
      "/home/jok120/anaconda3/envs/psp/lib/python3.7/site-packages/ipykernel_launcher.py:6: RuntimeWarning: invalid value encountered in less\n",
      "  \n",
      "/home/jok120/anaconda3/envs/psp/lib/python3.7/site-packages/ipykernel_launcher.py:5: RuntimeWarning: invalid value encountered in greater\n",
      "  \"\"\"\n",
      "/home/jok120/anaconda3/envs/psp/lib/python3.7/site-packages/ipykernel_launcher.py:6: RuntimeWarning: invalid value encountered in less\n",
      "  \n"
     ]
    }
   ],
   "source": [
    "from multiprocessing import Pool\n",
    "p = Pool(2)\n"
   ]
  },
  {
   "cell_type": "code",
   "execution_count": 13,
   "metadata": {},
   "outputs": [],
   "source": [
    "import seaborn as sns"
   ]
  },
  {
   "cell_type": "code",
   "execution_count": null,
   "metadata": {},
   "outputs": [],
   "source": [
    "sns.distplot(np.random.exponential(.5, size=1000))"
   ]
  },
  {
   "cell_type": "code",
   "execution_count": null,
   "metadata": {},
   "outputs": [],
   "source": [
    "data[\"train\"][\"ang\"][4].shape, angles_have_missing_res(data[\"train\"][\"ang\"][4])"
   ]
  },
  {
   "cell_type": "code",
   "execution_count": null,
   "metadata": {
    "scrolled": true
   },
   "outputs": [],
   "source": [
    "results1 = list(tqdm.tqdm(p.imap(work, \n",
    "                                 zip(data[\"train\"][\"seq\"][4:5]*1000, \n",
    "                                     data[\"train\"][\"ang\"][4:5]*1000, \n",
    "                                     data[\"train\"][\"crd\"][4:5]*1000, \n",
    "                                     np.random.exponential(.5, size=1000))\n",
    "                               ), total=1000))"
   ]
  },
  {
   "cell_type": "code",
   "execution_count": null,
   "metadata": {
    "scrolled": true
   },
   "outputs": [
    {
     "name": "stderr",
     "output_type": "stream",
     "text": [
      "  3%|▎         | 2592/85013 [20:02<13:56:46,  1.64it/s]"
     ]
    }
   ],
   "source": [
    "lim = None\n",
    "results = list(tqdm.tqdm(p.imap(work, \n",
    "                                 zip(data[\"train\"][\"seq\"][:lim], \n",
    "                                     data[\"train\"][\"ang\"][:lim], \n",
    "                                     data[\"train\"][\"crd\"][:lim], \n",
    "                                     np.random.exponential(.5, size=len(data[\"train\"][\"seq\"][:lim])))\n",
    "                               ), total=len(data[\"train\"][\"seq\"][:lim])))"
   ]
  },
  {
   "cell_type": "code",
   "execution_count": null,
   "metadata": {},
   "outputs": [],
   "source": [
    "results = p.map(work, \n",
    "                  zip(data[\"train\"][\"seq\"][:200], \n",
    "                      data[\"train\"][\"ang\"][:200], \n",
    "                      data[\"train\"][\"crd\"][:200], \n",
    "                      np.random.exponential(.5, size=200)))"
   ]
  },
  {
   "cell_type": "code",
   "execution_count": null,
   "metadata": {},
   "outputs": [],
   "source": [
    "len(results1)"
   ]
  },
  {
   "cell_type": "code",
   "execution_count": null,
   "metadata": {},
   "outputs": [],
   "source": [
    "import pandas as pd"
   ]
  },
  {
   "cell_type": "code",
   "execution_count": null,
   "metadata": {},
   "outputs": [],
   "source": [
    "sns.set()\n",
    "sns.set(rc={'figure.facecolor':'white'})"
   ]
  },
  {
   "cell_type": "code",
   "execution_count": null,
   "metadata": {},
   "outputs": [],
   "source": [
    "df = pd.DataFrame(results, columns=[\"rmse\", \"rmsd\", \"rmsd-recon\", \"drmsd\", \"drmsd-recon\",\"len\", \"stdev\"])"
   ]
  },
  {
   "cell_type": "code",
   "execution_count": null,
   "metadata": {},
   "outputs": [],
   "source": [
    "df[\"ln-drmsd\"] = df[\"drmsd\"] / df[\"len\"]\n",
    "df[\"ln-rmsd\"] = df[\"rmsd\"] / df[\"len\"]"
   ]
  },
  {
   "cell_type": "code",
   "execution_count": null,
   "metadata": {},
   "outputs": [],
   "source": [
    "fig = plt.figure(figsize=(8,8))\n",
    "ax1 = fig.add_subplot(111)\n",
    "sns.scatterplot(df[\"rmse\"], df[\"rmsd\"], alpha=0.3, ax=ax1, label=\"rmsd\")\n",
    "sns.scatterplot(df[\"rmse\"], df[\"drmsd\"], alpha=0.3, ax=ax1, label=\"drmsd\")\n",
    "plt.ylabel(\"\")\n",
    "plt.legend()\n",
    "plt.title(\"RMSE vs {RMSD, DRMSD}\")"
   ]
  },
  {
   "cell_type": "code",
   "execution_count": null,
   "metadata": {},
   "outputs": [],
   "source": [
    "fig = plt.figure(figsize=(8,8))\n",
    "ax1 = fig.add_subplot(111)\n",
    "sns.scatterplot(df[\"rmse\"], df[\"ln-rmsd\"], alpha=0.4, ax=ax1, label=\"ln-rmsd\")\n",
    "sns.scatterplot(df[\"rmse\"], df[\"ln-drmsd\"], alpha=0.4, ax=ax1, label=\"ln-drmsd\")\n",
    "plt.ylabel(\"\")\n",
    "plt.legend()\n",
    "plt.title(\"RMSE vs {LN-RMSD, LN-DRMSD}\")\n"
   ]
  },
  {
   "cell_type": "code",
   "execution_count": null,
   "metadata": {},
   "outputs": [],
   "source": [
    "fig = plt.figure(figsize=(8,8))\n",
    "ax1 = fig.add_subplot(111)\n",
    "sns.scatterplot(df[\"rmse\"], df[\"ln-rmsd\"], alpha=0.4, ax=ax1, label=\"ln-rmsd\")\n",
    "plt.title(\"RMSE vs LN-RMSD\")\n"
   ]
  },
  {
   "cell_type": "code",
   "execution_count": null,
   "metadata": {},
   "outputs": [],
   "source": [
    "fig = plt.figure(figsize=(8,8))\n",
    "ax1 = fig.add_subplot(111)\n",
    "sns.scatterplot(df[\"rmse\"], df[\"rmsd\"], alpha=0.4, ax=ax1, label=\"ln-rmsd\")\n",
    "plt.title(\"RMSE vs RMSD\")\n"
   ]
  },
  {
   "cell_type": "code",
   "execution_count": null,
   "metadata": {},
   "outputs": [],
   "source": [
    "fig = plt.figure(figsize=(8,8))\n",
    "ax1 = fig.add_subplot(111)\n",
    "sns.distplot(df_nona[\"rmsd-recon\"])\n",
    "plt.title(\"DRMSD-recon\")\n",
    "plt.xlim((0,6))"
   ]
  },
  {
   "cell_type": "code",
   "execution_count": null,
   "metadata": {},
   "outputs": [],
   "source": [
    "df_nona[df_nona[\"rmsd-recon\"]>2]"
   ]
  },
  {
   "cell_type": "code",
   "execution_count": null,
   "metadata": {},
   "outputs": [],
   "source": [
    "fig = plt.figure(figsize=(8,8), dpi=300)\n",
    "ax1 = fig.add_subplot(111)\n",
    "sns.scatterplot(df[\"rmse\"], df[\"rmsd\"], alpha=0.4, ax=ax1, label=\"rmsd\")\n",
    "sns.scatterplot(df[\"rmse\"], df[\"drmsd\"], alpha=0.4, ax=ax1, label=\"drmsd\")\n",
    "plt.ylabel(\"\")\n",
    "plt.legend()\n",
    "plt.title(\"RMSE vs {RMSD, DRMSD}\")\n",
    "plt.xlim((0,0.1))\n",
    "plt.ylim((0,13))"
   ]
  },
  {
   "cell_type": "code",
   "execution_count": null,
   "metadata": {},
   "outputs": [],
   "source": [
    "fig = plt.figure(figsize=(8,8))\n",
    "ax1 = fig.add_subplot(111)\n",
    "sns.scatterplot(df[\"rmse\"], df[\"ln-rmsd\"], alpha=0.4, ax=ax1, label=\"rmsd\")\n",
    "sns.scatterplot(df[\"rmse\"], df[\"ln-drmsd\"], alpha=0.4, ax=ax1, label=\"drmsd\")\n",
    "plt.ylabel(\"\")\n",
    "plt.legend()\n",
    "plt.title(\"RMSE vs {RMSD, DRMSD}\")\n",
    "plt.xlim((0,0.1))\n",
    "plt.ylim((0,.15))"
   ]
  },
  {
   "cell_type": "code",
   "execution_count": null,
   "metadata": {},
   "outputs": [],
   "source": [
    "fig = plt.figure(figsize=(8,8))\n",
    "ax1 = fig.add_subplot(111)\n",
    "sns.scatterplot(df[\"rmsd\"], df[\"drmsd\"], alpha=0.3)\n",
    "X_plot = np.linspace(0, 150, 100)\n",
    "Y_plot = np.linspace(0, 150, 100)\n",
    "plt.plot(X_plot, Y_plot, color='r')\n",
    "plt.title(\"RMSD vs. DRMSD\")\n",
    "plt.xlim((-2, 70))\n",
    "plt.ylim((-2, 70))"
   ]
  },
  {
   "cell_type": "code",
   "execution_count": null,
   "metadata": {},
   "outputs": [],
   "source": [
    "fig = plt.figure(figsize=(8,4))\n",
    "sns.distplot(df_nona[\"stdev\"])\n",
    "plt.title(\"Distribution of Noise Stdev\")"
   ]
  },
  {
   "cell_type": "code",
   "execution_count": null,
   "metadata": {},
   "outputs": [],
   "source": [
    "df_nona = df.dropna()"
   ]
  },
  {
   "cell_type": "code",
   "execution_count": null,
   "metadata": {},
   "outputs": [],
   "source": [
    "fig = plt.figure(figsize=(8,4))\n",
    "sns.distplot(df_nona[\"rmsd\"])\n",
    "plt.title(\"Distribution of RMSD\")"
   ]
  },
  {
   "cell_type": "code",
   "execution_count": null,
   "metadata": {},
   "outputs": [],
   "source": [
    "fig = plt.figure(figsize=(8,8))\n",
    "ax1 = fig.add_subplot(111)\n",
    "ax = sns.regplot(x=\"rmse\", y=\"ln-rmsd\", data=df, \n",
    "                 scatter_kws={\"alpha\": 0.4, \"color\": \"darkgrey\"},\n",
    "                 order=3, truncate=False)\n",
    "ax = sns.regplot(x=\"rmse\", y=\"ln-rmsd\", data=df, \n",
    "                 scatter_kws={\"alpha\": 0},\n",
    "                 order=2, truncate=True)\n",
    "ax = sns.regplot(x=\"rmse\", y=\"ln-rmsd\", data=df, \n",
    "                 scatter_kws={\"alpha\": 0},\n",
    "                 order=4, truncate=True)\n",
    "plt.title(\"Fitting Polynomials to RMSE vs LN-RMSD\")"
   ]
  },
  {
   "cell_type": "code",
   "execution_count": null,
   "metadata": {},
   "outputs": [],
   "source": [
    "sns.pairplot(df_nona,  kind=\"scatter\", plot_kws={'alpha':0.1})"
   ]
  },
  {
   "cell_type": "code",
   "execution_count": null,
   "metadata": {},
   "outputs": [],
   "source": [
    "results"
   ]
  },
  {
   "cell_type": "code",
   "execution_count": null,
   "metadata": {},
   "outputs": [],
   "source": [
    "df[\"ln-drmsd\"] = df[\"drmsd\"] / df[\"len\"]"
   ]
  },
  {
   "cell_type": "code",
   "execution_count": null,
   "metadata": {},
   "outputs": [],
   "source": [
    "sns.scatterplot(df[\"rmse\"], df[\"rmsd\"])"
   ]
  },
  {
   "cell_type": "code",
   "execution_count": null,
   "metadata": {},
   "outputs": [],
   "source": [
    "sns.scatterplot(df[\"rmse\"], df[\"drmsd\"])"
   ]
  },
  {
   "cell_type": "code",
   "execution_count": null,
   "metadata": {},
   "outputs": [],
   "source": [
    "sns.scatterplot(df[\"rmse\"], df[\"ln-drmsd\"])"
   ]
  },
  {
   "cell_type": "code",
   "execution_count": null,
   "metadata": {},
   "outputs": [],
   "source": [
    "sns.scatterplot(df[\"len\"], df[\"drmsd-recon\"])"
   ]
  },
  {
   "cell_type": "code",
   "execution_count": null,
   "metadata": {},
   "outputs": [],
   "source": [
    "from protein_transformer.protein.PDB_Creator import PDB_Creator\n",
    "creator1 = PDB_Creator(c.numpy(), seq=seq, atoms_per_res=3)\n",
    "creator2 = PDB_Creator(get_backbone_from_full_coords(crd), seq=seq, atoms_per_res=3)"
   ]
  },
  {
   "cell_type": "code",
   "execution_count": null,
   "metadata": {},
   "outputs": [],
   "source": [
    "creator1.save_pdb(\"reconstructed.pdb\")"
   ]
  },
  {
   "cell_type": "code",
   "execution_count": null,
   "metadata": {},
   "outputs": [],
   "source": [
    "creator2.save_pdb(\"original.pdb\")"
   ]
  },
  {
   "cell_type": "code",
   "execution_count": null,
   "metadata": {},
   "outputs": [],
   "source": [
    "pwd1 = protein_transformer.losses.pairwise_internal_dist(c)\n",
    "pwd2 = protein_transformer.losses.pairwise_internal_dist(torch.tensor(crd))"
   ]
  },
  {
   "cell_type": "code",
   "execution_count": null,
   "metadata": {},
   "outputs": [],
   "source": [
    "pwd2"
   ]
  },
  {
   "cell_type": "code",
   "execution_count": null,
   "metadata": {},
   "outputs": [],
   "source": [
    "pwd1"
   ]
  },
  {
   "cell_type": "code",
   "execution_count": null,
   "metadata": {
    "scrolled": true
   },
   "outputs": [],
   "source": [
    "c.numpy()[:50]"
   ]
  },
  {
   "cell_type": "code",
   "execution_count": null,
   "metadata": {
    "scrolled": true
   },
   "outputs": [],
   "source": [
    "crd[:50]"
   ]
  },
  {
   "cell_type": "code",
   "execution_count": null,
   "metadata": {},
   "outputs": [],
   "source": [
    "torch.isnan(c).any(), np.isnan(crd).any() "
   ]
  },
  {
   "cell_type": "code",
   "execution_count": null,
   "metadata": {},
   "outputs": [],
   "source": [
    "ang"
   ]
  },
  {
   "cell_type": "code",
   "execution_count": null,
   "metadata": {},
   "outputs": [],
   "source": [
    "np.random.seed(0)\n",
    "ang_noisy = add_noise(ang, 1, truncate=True, keep_zeros=True)"
   ]
  },
  {
   "cell_type": "code",
   "execution_count": null,
   "metadata": {},
   "outputs": [],
   "source": [
    "ang_noisy = add_noise"
   ]
  },
  {
   "cell_type": "code",
   "execution_count": null,
   "metadata": {},
   "outputs": [],
   "source": [
    "c = get_coordinates_from_numpy_data(seq, ang)"
   ]
  },
  {
   "cell_type": "code",
   "execution_count": null,
   "metadata": {},
   "outputs": [],
   "source": [
    "c.shape"
   ]
  },
  {
   "cell_type": "code",
   "execution_count": null,
   "metadata": {},
   "outputs": [],
   "source": [
    "ang.shape"
   ]
  },
  {
   "cell_type": "code",
   "execution_count": null,
   "metadata": {},
   "outputs": [],
   "source": [
    "327*13"
   ]
  },
  {
   "cell_type": "code",
   "execution_count": null,
   "metadata": {},
   "outputs": [],
   "source": []
  }
 ],
 "metadata": {
  "kernelspec": {
   "display_name": "Python (psp)",
   "language": "python",
   "name": "myenv"
  },
  "language_info": {
   "codemirror_mode": {
    "name": "ipython",
    "version": 3
   },
   "file_extension": ".py",
   "mimetype": "text/x-python",
   "name": "python",
   "nbconvert_exporter": "python",
   "pygments_lexer": "ipython3",
   "version": "3.7.4"
  },
  "pycharm": {
   "stem_cell": {
    "cell_type": "raw",
    "metadata": {
     "collapsed": false
    },
    "source": []
   }
  }
 },
 "nbformat": 4,
 "nbformat_minor": 2
}
