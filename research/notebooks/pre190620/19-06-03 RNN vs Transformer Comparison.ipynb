{
 "cells": [
  {
   "cell_type": "code",
   "execution_count": 1,
   "metadata": {},
   "outputs": [],
   "source": [
    "import torch\n",
    "import numpy as np\n",
    "import seaborn as sns\n",
    "import matplotlib.pyplot as plt\n",
    "%matplotlib inline\n",
    "# sns.set_style(\"darkgrid\")"
   ]
  },
  {
   "cell_type": "code",
   "execution_count": 2,
   "metadata": {},
   "outputs": [],
   "source": [
    "rnn = torch.load(\"/home/jok120/ptseq2struct/0602-rnn_q3-01_best_rnn-evalution.tch\")\n",
    "trf = torch.load(\"../0602-q3_adam-0457c_best_trans-evalution.tch\")"
   ]
  },
  {
   "cell_type": "markdown",
   "metadata": {
    "heading_collapsed": true
   },
   "source": [
    "# Plots"
   ]
  },
  {
   "cell_type": "code",
   "execution_count": 3,
   "metadata": {
    "hidden": true
   },
   "outputs": [],
   "source": [
    "for dictionary in [rnn, trf]:\n",
    "    for k, v in dictionary.items():\n",
    "        dictionary[k] = np.array(v)"
   ]
  },
  {
   "cell_type": "code",
   "execution_count": null,
   "metadata": {
    "hidden": true
   },
   "outputs": [],
   "source": [
    "plt.rcParams['figure.figsize'] = [6, 4]#[30.6, 20.4]\n",
    "plt.rcParams.update({'font.size': 13})"
   ]
  },
  {
   "cell_type": "code",
   "execution_count": 6,
   "metadata": {
    "hidden": true
   },
   "outputs": [],
   "source": [
    "!mkdir ../figs"
   ]
  },
  {
   "cell_type": "code",
   "execution_count": 20,
   "metadata": {
    "hidden": true
   },
   "outputs": [
    {
     "data": {
      "image/png": "[encoded data removed]",
      "text/plain": [
       "<Figure size 432x288 with 1 Axes>"
      ]
     },
     "metadata": {
      "needs_background": "light"
     },
     "output_type": "display_data"
    }
   ],
   "source": [
    "# sns.distplot(trf[\"drmsd\"],kde=False, label=\"Transformer\")\n",
    "plt.hist(trf[\"drmsd\"], label=\"Transformer\")\n",
    "# sns.distplot(rnn[\"drmsd\"],kde=False, label=\"RNN\")\n",
    "plt.hist(rnn[\"drmsd\"], label=\"RNN\", alpha=0.6)\n",
    "plt.legend()\n",
    "plt.title(\"DRMSD Loss Distribution over Test Set\")\n",
    "plt.ylabel(\"Count\")\n",
    "plt.xlabel(\"Distance-based Root Mean Square Deviation (DRMSD) in Å\")\n",
    "plt.savefig(\"../figs/190603_drmsd_comparison.pdf\")"
   ]
  },
  {
   "cell_type": "code",
   "execution_count": 21,
   "metadata": {
    "hidden": true
   },
   "outputs": [
    {
     "data": {
      "image/png": "[encoded data removed]",
      "text/plain": [
       "<Figure size 432x288 with 1 Axes>"
      ]
     },
     "metadata": {
      "needs_background": "light"
     },
     "output_type": "display_data"
    }
   ],
   "source": [
    "# sns.distplot(np.sqrt(trf[\"mse\"]),kde=False, label=\"Transformer\")\n",
    "# sns.distplot(np.sqrt(rnn[\"mse\"]),kde=False, label=\"RNN\")\n",
    "plt.hist(np.sqrt(trf[\"mse\"]), label=\"Transformer\")\n",
    "plt.hist(np.sqrt(rnn[\"mse\"]), label=\"RNN\", alpha=0.6)\n",
    "plt.legend()\n",
    "plt.title(\"RMSE Loss Distribution over Test Set\")\n",
    "plt.ylabel(\"Count\")\n",
    "plt.xlabel(\"Angle Root Mean Square Error (RMSE) in Radians\")\n",
    "plt.savefig(\"../figs/190603_rmse_comparison.pdf\")"
   ]
  },
  {
   "cell_type": "code",
   "execution_count": 23,
   "metadata": {
    "hidden": true
   },
   "outputs": [
    {
     "data": {
      "text/plain": [
       "(1.3922255591729402, 0.06719894186642485)"
      ]
     },
     "execution_count": 23,
     "metadata": {},
     "output_type": "execute_result"
    }
   ],
   "source": [
    "np.sqrt(trf[\"mse\"]).mean(), np.sqrt(trf[\"mse\"]).std()"
   ]
  },
  {
   "cell_type": "code",
   "execution_count": 24,
   "metadata": {
    "hidden": true
   },
   "outputs": [
    {
     "data": {
      "text/plain": [
       "(1.6371754681688009, 0.06899678351956275)"
      ]
     },
     "execution_count": 24,
     "metadata": {},
     "output_type": "execute_result"
    }
   ],
   "source": [
    "np.sqrt(rnn[\"mse\"]).mean(), np.sqrt(rnn[\"mse\"]).std()"
   ]
  },
  {
   "cell_type": "code",
   "execution_count": 25,
   "metadata": {
    "hidden": true
   },
   "outputs": [
    {
     "data": {
      "text/plain": [
       "(8.883497505187988, 2.4316915065151554)"
      ]
     },
     "execution_count": 25,
     "metadata": {},
     "output_type": "execute_result"
    }
   ],
   "source": [
    "trf[\"drmsd\"].mean(), trf[\"drmsd\"].std()"
   ]
  },
  {
   "cell_type": "code",
   "execution_count": 26,
   "metadata": {
    "hidden": true
   },
   "outputs": [
    {
     "data": {
      "text/plain": [
       "(9.385813035964965, 2.140923657226397)"
      ]
     },
     "execution_count": 26,
     "metadata": {},
     "output_type": "execute_result"
    }
   ],
   "source": [
    "rnn[\"drmsd\"].mean(), rnn[\"drmsd\"].std()"
   ]
  },
  {
   "cell_type": "markdown",
   "metadata": {},
   "source": [
    "# Compare batch time"
   ]
  },
  {
   "cell_type": "code",
   "execution_count": 29,
   "metadata": {},
   "outputs": [],
   "source": [
    "import pandas as pd\n",
    "rnn_log = pd.read_csv(\"/home/jok120/Desktop/safekeeping/0602-rnn_q3-01.train\")\n",
    "trf_log = pd.read_csv(\"/home/jok120/Desktop/safekeeping/0602-q3_adam-0457c.train\")"
   ]
  },
  {
   "cell_type": "code",
   "execution_count": 34,
   "metadata": {},
   "outputs": [
    {
     "data": {
      "text/plain": [
       "6.958365201950073"
      ]
     },
     "execution_count": 34,
     "metadata": {},
     "output_type": "execute_result"
    }
   ],
   "source": [
    "rnn_log[\"time\"].iloc[9] - rnn_log[\"time\"].iloc[8]"
   ]
  },
  {
   "cell_type": "code",
   "execution_count": 37,
   "metadata": {
    "scrolled": true
   },
   "outputs": [
    {
     "data": {
      "text/plain": [
       "2.5513086318969727"
      ]
     },
     "execution_count": 37,
     "metadata": {},
     "output_type": "execute_result"
    }
   ],
   "source": [
    "trf_log[\"time\"].iloc[9] - trf_log[\"time\"].iloc[8]"
   ]
  },
  {
   "cell_type": "code",
   "execution_count": null,
   "metadata": {},
   "outputs": [],
   "source": []
  }
 ],
 "metadata": {
  "kernelspec": {
   "display_name": "Python (pytorch_src2)",
   "language": "python",
   "name": "pytorch_src2"
  },
  "language_info": {
   "codemirror_mode": {
    "name": "ipython",
    "version": 3
   },
   "file_extension": ".py",
   "mimetype": "text/x-python",
   "name": "python",
   "nbconvert_exporter": "python",
   "pygments_lexer": "ipython3",
   "version": "3.6.8"
  }
 },
 "nbformat": 4,
 "nbformat_minor": 2
}
