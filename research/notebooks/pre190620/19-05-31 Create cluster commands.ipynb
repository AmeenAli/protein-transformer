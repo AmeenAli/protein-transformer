{
 "cells": [
  {
   "cell_type": "code",
   "execution_count": 8,
   "metadata": {},
   "outputs": [],
   "source": [
    "basic_train_cmd = \"python \" +\\\n",
    "                  \"train.py \" +\\\n",
    "                  \"{data} {name} -e 1000 -b 2 -cl \" +\\\n",
    "                  \"-dm {dm} -dih {dih} --early_stopping 50 --train_only --combined_loss\"\n",
    "# params = {\"warmup\": [1, 10, 100, 250, 500, 1000 ],\n",
    "#           \"dm\": [128, 256, 512, 1024, 2048],\n",
    "#           \"dih\": [512, 1024, 2048],\n",
    "#           \"dwv\": [8, 20, 24, 48, 128, 256]}\n",
    "# params_repeat = {\"warmup\": [5, 100, 500, 1000],\n",
    "#           \"dm\": [128, 256, 512, 1024, 2048],\n",
    "#           \"dih\": [512, 1024, 2048]}\n",
    "param = {\"warmup\": [4000, 1000, 2000],\n",
    "          \"dm\": [8, 12, 20, 56, 128, 512, 1024, 2048],\n",
    "          \"dih\": [2048, 1024, 512]}\n",
    "# data_path = \"data/data_190529_multi_helix_turns.tch\"\n",
    "# data_path = \"data/data_190530_multi_helix_turns_overfit.tch\"\n",
    "data_path = \"data/data_190530_query1_overfit.tch\"\n",
    "name = \"0602-q1smallredo-{:03}\""
   ]
  },
  {
   "cell_type": "code",
   "execution_count": 9,
   "metadata": {},
   "outputs": [
    {
     "name": "stdout",
     "output_type": "stream",
     "text": [
      "python train.py data/data_190530_query1_overfit.tch 0602-q1smallredo-000 -e 1000 -b 2 -cl -dm 8 -dih 2048 --early_stopping 50 --train_only --combined_loss --print_loss > logs/0602-q1smallredo-000.log 2>&1\n",
      "python train.py data/data_190530_query1_overfit.tch 0602-q1smallredo-001 -e 1000 -b 2 -cl -dm 12 -dih 2048 --early_stopping 50 --train_only --combined_loss --print_loss > logs/0602-q1smallredo-001.log 2>&1\n",
      "python train.py data/data_190530_query1_overfit.tch 0602-q1smallredo-002 -e 1000 -b 2 -cl -dm 20 -dih 2048 --early_stopping 50 --train_only --combined_loss --print_loss > logs/0602-q1smallredo-002.log 2>&1\n",
      "python train.py data/data_190530_query1_overfit.tch 0602-q1smallredo-003 -e 1000 -b 2 -cl -dm 56 -dih 2048 --early_stopping 50 --train_only --combined_loss --print_loss > logs/0602-q1smallredo-003.log 2>&1\n",
      "python train.py data/data_190530_query1_overfit.tch 0602-q1smallredo-004 -e 1000 -b 2 -cl -dm 128 -dih 2048 --early_stopping 50 --train_only --combined_loss --print_loss > logs/0602-q1smallredo-004.log 2>&1\n",
      "python train.py data/data_190530_query1_overfit.tch 0602-q1smallredo-005 -e 1000 -b 2 -cl -dm 512 -dih 2048 --early_stopping 50 --train_only --combined_loss --print_loss > logs/0602-q1smallredo-005.log 2>&1\n",
      "python train.py data/data_190530_query1_overfit.tch 0602-q1smallredo-006 -e 1000 -b 2 -cl -dm 1024 -dih 2048 --early_stopping 50 --train_only --combined_loss --print_loss > logs/0602-q1smallredo-006.log 2>&1\n",
      "python train.py data/data_190530_query1_overfit.tch 0602-q1smallredo-007 -e 1000 -b 2 -cl -dm 2048 -dih 2048 --early_stopping 50 --train_only --combined_loss --print_loss > logs/0602-q1smallredo-007.log 2>&1\n",
      "python train.py data/data_190530_query1_overfit.tch 0602-q1smallredo-008 -e 1000 -b 2 -cl -dm 8 -dih 1024 --early_stopping 50 --train_only --combined_loss --print_loss > logs/0602-q1smallredo-008.log 2>&1\n",
      "python train.py data/data_190530_query1_overfit.tch 0602-q1smallredo-009 -e 1000 -b 2 -cl -dm 12 -dih 1024 --early_stopping 50 --train_only --combined_loss --print_loss > logs/0602-q1smallredo-009.log 2>&1\n",
      "python train.py data/data_190530_query1_overfit.tch 0602-q1smallredo-010 -e 1000 -b 2 -cl -dm 20 -dih 1024 --early_stopping 50 --train_only --combined_loss --print_loss > logs/0602-q1smallredo-010.log 2>&1\n",
      "python train.py data/data_190530_query1_overfit.tch 0602-q1smallredo-011 -e 1000 -b 2 -cl -dm 56 -dih 1024 --early_stopping 50 --train_only --combined_loss --print_loss > logs/0602-q1smallredo-011.log 2>&1\n",
      "python train.py data/data_190530_query1_overfit.tch 0602-q1smallredo-012 -e 1000 -b 2 -cl -dm 128 -dih 1024 --early_stopping 50 --train_only --combined_loss --print_loss > logs/0602-q1smallredo-012.log 2>&1\n",
      "python train.py data/data_190530_query1_overfit.tch 0602-q1smallredo-013 -e 1000 -b 2 -cl -dm 512 -dih 1024 --early_stopping 50 --train_only --combined_loss --print_loss > logs/0602-q1smallredo-013.log 2>&1\n",
      "python train.py data/data_190530_query1_overfit.tch 0602-q1smallredo-014 -e 1000 -b 2 -cl -dm 1024 -dih 1024 --early_stopping 50 --train_only --combined_loss --print_loss > logs/0602-q1smallredo-014.log 2>&1\n",
      "python train.py data/data_190530_query1_overfit.tch 0602-q1smallredo-015 -e 1000 -b 2 -cl -dm 2048 -dih 1024 --early_stopping 50 --train_only --combined_loss --print_loss > logs/0602-q1smallredo-015.log 2>&1\n",
      "python train.py data/data_190530_query1_overfit.tch 0602-q1smallredo-016 -e 1000 -b 2 -cl -dm 8 -dih 512 --early_stopping 50 --train_only --combined_loss --print_loss > logs/0602-q1smallredo-016.log 2>&1\n",
      "python train.py data/data_190530_query1_overfit.tch 0602-q1smallredo-017 -e 1000 -b 2 -cl -dm 12 -dih 512 --early_stopping 50 --train_only --combined_loss --print_loss > logs/0602-q1smallredo-017.log 2>&1\n",
      "python train.py data/data_190530_query1_overfit.tch 0602-q1smallredo-018 -e 1000 -b 2 -cl -dm 20 -dih 512 --early_stopping 50 --train_only --combined_loss --print_loss > logs/0602-q1smallredo-018.log 2>&1\n",
      "python train.py data/data_190530_query1_overfit.tch 0602-q1smallredo-019 -e 1000 -b 2 -cl -dm 56 -dih 512 --early_stopping 50 --train_only --combined_loss --print_loss > logs/0602-q1smallredo-019.log 2>&1\n",
      "python train.py data/data_190530_query1_overfit.tch 0602-q1smallredo-020 -e 1000 -b 2 -cl -dm 128 -dih 512 --early_stopping 50 --train_only --combined_loss --print_loss > logs/0602-q1smallredo-020.log 2>&1\n",
      "python train.py data/data_190530_query1_overfit.tch 0602-q1smallredo-021 -e 1000 -b 2 -cl -dm 512 -dih 512 --early_stopping 50 --train_only --combined_loss --print_loss > logs/0602-q1smallredo-021.log 2>&1\n",
      "python train.py data/data_190530_query1_overfit.tch 0602-q1smallredo-022 -e 1000 -b 2 -cl -dm 1024 -dih 512 --early_stopping 50 --train_only --combined_loss --print_loss > logs/0602-q1smallredo-022.log 2>&1\n",
      "python train.py data/data_190530_query1_overfit.tch 0602-q1smallredo-023 -e 1000 -b 2 -cl -dm 2048 -dih 512 --early_stopping 50 --train_only --combined_loss --print_loss > logs/0602-q1smallredo-023.log 2>&1\n"
     ]
    }
   ],
   "source": [
    "i = 0\n",
    "cmds = []\n",
    "for dih in param[\"dih\"]:\n",
    "#     for warmup in param[\"warmup\"]:\n",
    "    for dm in param[\"dm\"]:\n",
    "        cmd = basic_train_cmd.format(data=data_path, name=name.format(i),\n",
    "                                    dm=dm, dih=dih) #,warmup=warmup)\n",
    "        cmds.append(cmd)\n",
    "        print(cmd + f\" > logs/{name}.log 2>&1\".format(i))\n",
    "\n",
    "        i += 1"
   ]
  },
  {
   "cell_type": "code",
   "execution_count": null,
   "metadata": {},
   "outputs": [],
   "source": []
  }
 ],
 "metadata": {
  "kernelspec": {
   "display_name": "Python (pytorch_src2)",
   "language": "python",
   "name": "pytorch_src2"
  },
  "language_info": {
   "codemirror_mode": {
    "name": "ipython",
    "version": 3
   },
   "file_extension": ".py",
   "mimetype": "text/x-python",
   "name": "python",
   "nbconvert_exporter": "python",
   "pygments_lexer": "ipython3",
   "version": "3.6.8"
  }
 },
 "nbformat": 4,
 "nbformat_minor": 2
}
