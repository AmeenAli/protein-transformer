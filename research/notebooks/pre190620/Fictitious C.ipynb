{
 "cells": [
  {
   "cell_type": "code",
   "execution_count": 1,
   "metadata": {},
   "outputs": [],
   "source": [
    "from prody import *\n",
    "import numpy as np"
   ]
  },
  {
   "cell_type": "code",
   "execution_count": 2,
   "metadata": {},
   "outputs": [
    {
     "data": {
      "text/plain": [
       "array([[24.643,  4.56 , 26.403],\n",
       "       [23.481,  4.689, 25.477],\n",
       "       [23.878,  4.469, 23.998],\n",
       "       ...,\n",
       "       [12.307, -5.214, 37.346],\n",
       "       [12.137, -6.283, 38.33 ],\n",
       "       [10.761, -6.248, 39.   ]])"
      ]
     },
     "execution_count": 2,
     "metadata": {},
     "output_type": "execute_result"
    }
   ],
   "source": [
    "p = parsePDB(\"1a9u\").select(\"name N CA C\")\n",
    "c = p.getCoords()\n",
    "c\n"
   ]
  },
  {
   "cell_type": "code",
   "execution_count": 4,
   "metadata": {},
   "outputs": [
    {
     "data": {
      "text/plain": [
       "array(['N', 'CA', 'C', 'N', 'CA', 'C'], dtype='<U6')"
      ]
     },
     "execution_count": 4,
     "metadata": {},
     "output_type": "execute_result"
    }
   ],
   "source": [
    "p.getNames()[:6]"
   ]
  },
  {
   "cell_type": "code",
   "execution_count": 3,
   "metadata": {},
   "outputs": [
    {
     "data": {
      "text/plain": [
       "array([[ 1.262, -0.791,  3.268],\n",
       "       [ 0.1  , -0.662,  2.342],\n",
       "       [ 0.497, -0.882,  0.863],\n",
       "       [ 0.   ,  0.   ,  0.   ],\n",
       "       [ 0.252, -0.016, -1.442],\n",
       "       [-0.161, -1.237, -2.244]])"
      ]
     },
     "execution_count": 3,
     "metadata": {},
     "output_type": "execute_result"
    }
   ],
   "source": [
    "c_centered = c - c[3]\n",
    "c_centered[:6]"
   ]
  },
  {
   "cell_type": "code",
   "execution_count": null,
   "metadata": {},
   "outputs": [],
   "source": []
  }
 ],
 "metadata": {
  "kernelspec": {
   "display_name": "Python (pytorch_src2)",
   "language": "python",
   "name": "pytorch_src2"
  },
  "language_info": {
   "codemirror_mode": {
    "name": "ipython",
    "version": 3
   },
   "file_extension": ".py",
   "mimetype": "text/x-python",
   "name": "python",
   "nbconvert_exporter": "python",
   "pygments_lexer": "ipython3",
   "version": "3.6.8"
  }
 },
 "nbformat": 4,
 "nbformat_minor": 2
}
