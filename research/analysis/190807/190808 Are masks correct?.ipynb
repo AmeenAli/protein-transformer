{
 "cells": [
  {
   "cell_type": "code",
   "execution_count": 1,
   "metadata": {},
   "outputs": [],
   "source": [
    "import torch\n",
    "import numpy as np"
   ]
  },
  {
   "cell_type": "code",
   "execution_count": 24,
   "metadata": {},
   "outputs": [],
   "source": [
    "d = torch.load(\"../../../data/proteinnet/casp12_190808_30.pt\")"
   ]
  },
  {
   "cell_type": "code",
   "execution_count": 25,
   "metadata": {},
   "outputs": [
    {
     "data": {
      "text/plain": [
       "dict_keys(['train', 'valid', 'test', 'settings', 'description', 'date'])"
      ]
     },
     "execution_count": 25,
     "metadata": {},
     "output_type": "execute_result"
    }
   ],
   "source": [
    "d.keys()"
   ]
  },
  {
   "cell_type": "code",
   "execution_count": 26,
   "metadata": {},
   "outputs": [
    {
     "data": {
      "text/plain": [
       "dict_keys(['seq', 'ang', 'ids', 'crd', 'mask', 'evolutionary', 'secondary'])"
      ]
     },
     "execution_count": 26,
     "metadata": {},
     "output_type": "execute_result"
    }
   ],
   "source": [
    "d[\"test\"].keys()"
   ]
  },
  {
   "cell_type": "code",
   "execution_count": 61,
   "metadata": {},
   "outputs": [
    {
     "name": "stdout",
     "output_type": "stream",
     "text": [
      "[[False False False ... False False False]\n",
      " [False False False ... False False False]\n",
      " [False False False ... False False False]\n",
      " ...\n",
      " [False False False ...  True False False]\n",
      " [False False False ... False False False]\n",
      " [False False False ... False False False]]\n",
      "(234, 20)\n",
      "[[        nan         nan  0.7278752  ...         nan         nan\n",
      "          nan]\n",
      " [ 0.41417996 -0.91019501  0.8454803  ...         nan         nan\n",
      "          nan]\n",
      " [-0.25224441 -0.96766356 -0.5593133  ...         nan         nan\n",
      "          nan]\n",
      " ...\n",
      " [-0.5757264  -0.81764241 -0.30892917 ...         nan         nan\n",
      "          nan]\n",
      " [-0.11674786 -0.99316159 -0.68355788 ... -0.93902553         nan\n",
      "          nan]\n",
      " [-0.55922171 -0.82901814         nan ...         nan         nan\n",
      "          nan]]\n",
      "(234, 24)\n",
      "4W8Q_1_A\n",
      "[[86.67   2.207 22.978]\n",
      " [87.447  3.135 22.161]\n",
      " [86.938  3.205 20.716]\n",
      " ...\n",
      " [   nan    nan    nan]\n",
      " [   nan    nan    nan]\n",
      " [   nan    nan    nan]]\n",
      "(3042, 3)\n"
     ]
    }
   ],
   "source": [
    "dt = d[\"train\"]\n",
    "print(dt[\"seq\"][0])\n",
    "print(dt[\"seq\"][0].shape)\n",
    "print(dt[\"ang\"][0])\n",
    "print(dt[\"ang\"][0].shape)\n",
    "print(dt[\"ids\"][0])\n",
    "print(dt[\"crd\"][0])\n",
    "print(dt[\"crd\"][0].shape)"
   ]
  },
  {
   "cell_type": "code",
   "execution_count": 42,
   "metadata": {},
   "outputs": [
    {
     "data": {
      "text/plain": [
       "1287"
      ]
     },
     "execution_count": 42,
     "metadata": {},
     "output_type": "execute_result"
    }
   ],
   "source": [
    "99*13"
   ]
  },
  {
   "cell_type": "code",
   "execution_count": 43,
   "metadata": {},
   "outputs": [],
   "source": [
    "for i in range(len(dt[\"seq\"])):\n",
    "    l = dt[\"seq\"][i].shape[0]\n",
    "    dt[\"ang\"][i].shape[0] == l, f\"ang and seq mismatch, {l}, {dt['ang'][i].shape}, {i}\"\n",
    "    assert dt[\"crd\"][i].shape[0] == l*13"
   ]
  },
  {
   "cell_type": "code",
   "execution_count": 45,
   "metadata": {},
   "outputs": [
    {
     "data": {
      "text/plain": [
       "(98, 20)"
      ]
     },
     "execution_count": 45,
     "metadata": {},
     "output_type": "execute_result"
    }
   ],
   "source": [
    "dt[\"seq\"][2].shape"
   ]
  },
  {
   "cell_type": "code",
   "execution_count": 84,
   "metadata": {
    "scrolled": true
   },
   "outputs": [
    {
     "name": "stdout",
     "output_type": "stream",
     "text": [
      "4W8Q_1_A\n",
      "[]\n",
      "2J58_1_A\n",
      "[ 33  72 173 208 238 249 254 270 304 345]\n",
      "3EAF_1_A\n",
      "[234 258 300 317 405]\n",
      "3RZG_1_A\n",
      "[]\n",
      "4PR7_1_A\n",
      "[ 11  12  13  14  42  43  44  45  46  47  48  49  50  51  52  53  54 117\n",
      " 118 119 120 121 122 123 124 125 126 127 128 159 160 161 162 163 164 165\n",
      " 166 167 168 196 197 198 199 200 201 202]\n",
      "4XHT_1_A\n",
      "[]\n",
      "4WVU_1_A\n",
      "[]\n",
      "2QXX_1_A\n",
      "[]\n",
      "3VC5_d3vc5a1\n",
      "[]\n",
      "4B9I_1_A\n",
      "[ 12  13  14  98  99 100 117 118 119 120 121 122]\n"
     ]
    }
   ],
   "source": [
    "for i in range(10):\n",
    "    print(dt[\"ids\"][i])\n",
    "    add = 0\n",
    "    if \"3EAF\" in dt[\"ids\"][i]:\n",
    "        add = 41\n",
    "    print(np.where(np.isnan(dt[\"ang\"][i]).all(axis=1))[0]+add)\n",
    "    "
   ]
  },
  {
   "cell_type": "code",
   "execution_count": 85,
   "metadata": {},
   "outputs": [],
   "source": [
    "AA_MAP = {'A': 0, 'C': 1, 'D': 2, 'E': 3,\n",
    "          'F': 4, 'G': 5, 'H': 6, 'I': 7,\n",
    "          'K': 8, 'L': 9, 'M': 10, 'N': 11,\n",
    "          'P': 12, 'Q': 13, 'R': 14, 'S': 15,\n",
    "          'T': 16, 'V': 17, 'W': 18, 'Y': 19}\n",
    "AA_MAP_INV = {v: k for k, v in AA_MAP.items()}\n",
    "def onehot_to_seq(oh):\n",
    "    \"\"\" Given a vector of one-hot vectors, returns its corresponding AA sequence.\"\"\"\n",
    "    seq = \"\"\n",
    "    for aa in oh:\n",
    "        idx = aa.argmax()\n",
    "        seq += AA_MAP_INV[idx]\n",
    "    return seq"
   ]
  },
  {
   "cell_type": "code",
   "execution_count": 87,
   "metadata": {},
   "outputs": [
    {
     "data": {
      "text/plain": [
       "'SLTINVGLLVDETGPTSDVGKGYSLGAELAFKYFNEKGIYTKDGVRVNINYIKRDYAYNPTTAEEYYREFRDRYGVIAIIGWGTADTEKLSDQVDTDKITYISASYSAKLLVKPFNFYPAPDYSTQACSGLAFLASEFGQGKLALAYDSKVAYSRSPIGAIKKAAPSLGLQVVGDYDLPLRATEADAERIAREMLAADPDYVWCGNTISSCSLLGRAMAKVGLDAFLLTNVWGFDERSPQLIGEGGYGKVFGISPFIYPMFGQDVEGIQTIFEAARMNGVSEDQINLRVVQGFVNVWLLIKAIESVTSQDLQERGGEALKEALEANTFDLGGITADTIDYEPGFHLAYRKVFIIKLGENGELQLMGKFEAPSQVDCARYTIEEG'"
      ]
     },
     "execution_count": 87,
     "metadata": {},
     "output_type": "execute_result"
    }
   ],
   "source": [
    "onehot_to_seq(dt[\"seq\"][2])"
   ]
  }
 ],
 "metadata": {
  "kernelspec": {
   "display_name": "Python (pytorch_src2)",
   "language": "python",
   "name": "pytorch_src2"
  },
  "language_info": {
   "codemirror_mode": {
    "name": "ipython",
    "version": 3
   },
   "file_extension": ".py",
   "mimetype": "text/x-python",
   "name": "python",
   "nbconvert_exporter": "python",
   "pygments_lexer": "ipython3",
   "version": "3.6.8"
  }
 },
 "nbformat": 4,
 "nbformat_minor": 2
}
