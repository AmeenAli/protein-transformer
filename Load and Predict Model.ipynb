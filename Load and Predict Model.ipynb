{
 "cells": [
  {
   "cell_type": "code",
   "execution_count": 1,
   "metadata": {},
   "outputs": [],
   "source": [
    "import torch\n",
    "import numpy as np\n",
    "from tqdm import tqdm"
   ]
  },
  {
   "cell_type": "code",
   "execution_count": 15,
   "metadata": {},
   "outputs": [],
   "source": [
    "model_path = \"helix01_mse.chkpt\"\n",
    "chkpt = torch.load(model_path)\n",
    "opt = chkpt[\"settings\"]\n",
    "epoch = chkpt[\"epoch\"]\n",
    "model_state = chkpt[\"model\"]"
   ]
  },
  {
   "cell_type": "code",
   "execution_count": 16,
   "metadata": {},
   "outputs": [],
   "source": [
    "import transformer.Models\n",
    "from transformer.Optim import ScheduledOptim\n",
    "import torch.optim as optim\n",
    "import torch.utils.data\n",
    "from dataset import ProteinDataset, paired_collate_fn\n",
    "from train import cal_performance"
   ]
  },
  {
   "cell_type": "code",
   "execution_count": 17,
   "metadata": {},
   "outputs": [],
   "source": [
    "device = torch.device('cuda' if opt.cuda else 'cpu')\n",
    "the_model = transformer.Models.Transformer(opt.max_token_seq_len,\n",
    "        d_k=opt.d_k,\n",
    "        d_v=opt.d_v,\n",
    "        d_model=opt.d_model,\n",
    "        d_inner=opt.d_inner_hid,\n",
    "        n_layers=opt.n_layers,\n",
    "        n_head=opt.n_head,\n",
    "        dropout=opt.dropout)\n",
    "the_model.load_state_dict(model_state)"
   ]
  },
  {
   "cell_type": "code",
   "execution_count": 18,
   "metadata": {},
   "outputs": [],
   "source": [
    "data = torch.load(opt.data)\n",
    "data_loader = torch.utils.data.DataLoader(\n",
    "        ProteinDataset(\n",
    "            seqs=data['test']['seq'],\n",
    "            angs=data['test']['ang']),\n",
    "        num_workers=2,\n",
    "        batch_size=1,#opt.batch_size,\n",
    "        collate_fn=paired_collate_fn,\n",
    "        shuffle=True)"
   ]
  },
  {
   "cell_type": "code",
   "execution_count": 19,
   "metadata": {
    "scrolled": false
   },
   "outputs": [
    {
     "name": "stderr",
     "output_type": "stream",
     "text": [
      "                                                        "
     ]
    },
    {
     "name": "stdout",
     "output_type": "stream",
     "text": [
      "Loss: 0.16, Predshape: torch.Size([1, 21, 11])\n",
      "Loss: 0.16, Predshape: torch.Size([1, 21, 11])\n"
     ]
    },
    {
     "name": "stderr",
     "output_type": "stream",
     "text": [
      "\r"
     ]
    }
   ],
   "source": [
    "with torch.no_grad():\n",
    "    for batch in tqdm(\n",
    "            data_loader, mininterval=2,\n",
    "            desc='  - (Evaluation) ', leave=False):\n",
    "\n",
    "        # prepare data\n",
    "        src_seq, src_pos, tgt_seq, tgt_pos = batch\n",
    "        gold = tgt_seq[:]\n",
    "\n",
    "        # forward\n",
    "        pred = the_model(src_seq, src_pos, tgt_seq, tgt_pos)\n",
    "        loss = cal_performance(pred, gold, device)\n",
    "        print(\"Loss: {0:.2f}, Predshape: {1}\".format(loss, pred.shape))"
   ]
  },
  {
   "cell_type": "code",
   "execution_count": null,
   "metadata": {},
   "outputs": [],
   "source": [
    "np.array(pred)"
   ]
  },
  {
   "cell_type": "code",
   "execution_count": null,
   "metadata": {},
   "outputs": [],
   "source": [
    "del struct"
   ]
  },
  {
   "cell_type": "code",
   "execution_count": 20,
   "metadata": {},
   "outputs": [],
   "source": [
    "import transformer.Structure as struct\n",
    "import pickle"
   ]
  },
  {
   "cell_type": "code",
   "execution_count": 22,
   "metadata": {},
   "outputs": [],
   "source": [
    "coords = struct.angles2coords(pred[0], torch.device(\"cpu\"))"
   ]
  },
  {
   "cell_type": "code",
   "execution_count": 23,
   "metadata": {},
   "outputs": [],
   "source": [
    "with open(\"helix01_mse.pkl\", \"wb\") as f:\n",
    "    d = {\"5XDJ_A\": np.asarray(coords)}\n",
    "    pickle.dump(d, f, 2)"
   ]
  },
  {
   "cell_type": "code",
   "execution_count": 11,
   "metadata": {
    "scrolled": true
   },
   "outputs": [
    {
     "name": "stdout",
     "output_type": "stream",
     "text": [
      "/home/jok120/build/anaconda3/lib/python2.7/site-packages/scipy/linalg/basic.py:17: RuntimeWarning: numpy.dtype size changed, may indicate binary incompatibility. Expected 96, got 88\r\n",
      "  from ._solve_toeplitz import levinson\r\n",
      "/home/jok120/build/anaconda3/lib/python2.7/site-packages/scipy/linalg/__init__.py:202: RuntimeWarning: numpy.dtype size changed, may indicate binary incompatibility. Expected 96, got 88\r\n",
      "  from ._decomp_update import *\r\n",
      "Traceback (most recent call last):\r\n",
      "  File \"coords2pdb.py\", line 15, in <module>\r\n",
      "    from prody import *\r\n",
      "  File \"/home/jok120/build/anaconda3/lib/python2.7/site-packages/prody/__init__.py\", line 85, in <module>\r\n",
      "    from . import proteins\r\n",
      "  File \"/home/jok120/build/anaconda3/lib/python2.7/site-packages/prody/proteins/__init__.py\", line 162, in <module>\r\n",
      "    from . import compare\r\n",
      "  File \"/home/jok120/build/anaconda3/lib/python2.7/site-packages/prody/proteins/compare.py\", line 17, in <module>\r\n",
      "    from prody.sequence import MSA\r\n",
      "  File \"/home/jok120/build/anaconda3/lib/python2.7/site-packages/prody/sequence/__init__.py\", line 53, in <module>\r\n",
      "    from . import msa\r\n",
      "  File \"/home/jok120/build/anaconda3/lib/python2.7/site-packages/prody/sequence/msa.py\", line 9, in <module>\r\n",
      "    from Bio import AlignIO\r\n",
      "ImportError: No module named Bio\r\n"
     ]
    }
   ],
   "source": [
    "!python coords2pdb.py helix01_pred.pkl"
   ]
  },
  {
   "cell_type": "code",
   "execution_count": null,
   "metadata": {},
   "outputs": [],
   "source": [
    "len(coords)"
   ]
  },
  {
   "cell_type": "code",
   "execution_count": null,
   "metadata": {},
   "outputs": [],
   "source": []
  }
 ],
 "metadata": {
  "kernelspec": {
   "display_name": "Python (pytorch_src)",
   "language": "python",
   "name": "pytorch_src"
  },
  "language_info": {
   "codemirror_mode": {
    "name": "ipython",
    "version": 3
   },
   "file_extension": ".py",
   "mimetype": "text/x-python",
   "name": "python",
   "nbconvert_exporter": "python",
   "pygments_lexer": "ipython3",
   "version": "3.6.7"
  }
 },
 "nbformat": 4,
 "nbformat_minor": 2
}
