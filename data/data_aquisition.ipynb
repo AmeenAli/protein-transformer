{
 "cells": [
  {
   "cell_type": "markdown",
   "metadata": {},
   "source": [
    "# Data Aquisition\n",
    "In this file, I download and format data to be provided to machine learning models. There are several steps:\n"
   ]
  },
  {
   "cell_type": "code",
   "execution_count": 18,
   "metadata": {},
   "outputs": [
    {
     "name": "stdout",
     "output_type": "stream",
     "text": [
      "Collecting joblib\n",
      "  Using cached https://files.pythonhosted.org/packages/0d/1b/995167f6c66848d4eb7eabc386aebe07a1571b397629b2eac3b7bebdc343/joblib-0.13.0-py2.py3-none-any.whl\n",
      "\u001b[31mmkl-random 1.0.1 requires cython, which is not installed.\u001b[0m\n",
      "Installing collected packages: joblib\n",
      "Successfully installed joblib-0.13.0\n",
      "\u001b[33mYou are using pip version 10.0.1, however version 18.1 is available.\n",
      "You should consider upgrading via the 'pip install --upgrade pip' command.\u001b[0m\n"
     ]
    }
   ],
   "source": [
    "import sys\n",
    "!{sys.executable} -m pip install joblib"
   ]
  },
  {
   "cell_type": "markdown",
   "metadata": {},
   "source": [
    "## 1. Aquire a list of PDB IDs to download."
   ]
  },
  {
   "cell_type": "code",
   "execution_count": 19,
   "metadata": {},
   "outputs": [
    {
     "data": {
      "text/plain": [
       "'_1129'"
      ]
     },
     "execution_count": 19,
     "metadata": {},
     "output_type": "execute_result"
    }
   ],
   "source": [
    "import datetime\n",
    "today = datetime.datetime.today()\n",
    "day = today.day\n",
    "month = today.month\n",
    "suffix = \"_{0:02d}{1:02d}\".format(month, day)\n",
    "suffix"
   ]
  },
  {
   "cell_type": "code",
   "execution_count": 20,
   "metadata": {
    "scrolled": true
   },
   "outputs": [],
   "source": [
    "import requests"
   ]
  },
  {
   "cell_type": "code",
   "execution_count": 21,
   "metadata": {
    "code_folding": []
   },
   "outputs": [
    {
     "name": "stdout",
     "output_type": "stream",
     "text": [
      "Retrieved 87 PDB IDs.\n"
     ]
    }
   ],
   "source": [
    "url = 'http://www.rcsb.org/pdb/rest/search'\n",
    "\n",
    "# Retrieves all PDB IDs that have resolution < 3.0 Angstroms.\n",
    "# Must contain 1 protein.\n",
    "query = \"\"\"<orgPdbQuery>\n",
    "    <version>head</version>\n",
    "    <queryType>org.pdb.query.simple.EntriesOfEntitiesQuery</queryType>\n",
    "    <description>Entries of :Secondary structure has:  1 or more Alpha Helices and between 85 and 100 percent of elements are Alpha Helical  and 0 or less Beta Sheets and 0 or less percent of elements are Beta Sheet \n",
    "and\n",
    "Oligomeric state Search : Min Number of oligomeric state=1 Max Number of oligomeric state=1\n",
    "and\n",
    "Sequence Length is between 9 and 60 \n",
    "</description>\n",
    "    <queryId>72D8FBC1</queryId>\n",
    "    <resultCount>86</resultCount>\n",
    "    <runtimeStart>2018-11-29T13:52:29Z</runtimeStart>\n",
    "    <runtimeMilliseconds>2</runtimeMilliseconds>\n",
    "    <parent><![CDATA[<orgPdbCompositeQuery version=\"1.0\">\n",
    "    <resultCount>1890</resultCount>\n",
    "    <queryId>1A24C4C2</queryId>\n",
    " <queryRefinement>\n",
    "  <queryRefinementLevel>0</queryRefinementLevel>\n",
    "  <orgPdbQuery>\n",
    "    <version>head</version>\n",
    "    <queryType>org.pdb.query.simple.SecondaryStructureQuery</queryType>\n",
    "    <description>Secondary structure has:  1 or more Alpha Helices and between 85 and 100 percent of elements are Alpha Helical  and 0 or less Beta Sheets and 0 or less percent of elements are Beta Sheet </description>\n",
    "    <queryId>F9D5DD03</queryId>\n",
    "    <resultCount>1890</resultCount>\n",
    "    <runtimeStart>2018-11-29T13:35:16Z</runtimeStart>\n",
    "    <runtimeMilliseconds>637</runtimeMilliseconds>\n",
    "    <polyStats.helixPercent.comparator>between</polyStats.helixPercent.comparator>\n",
    "    <polyStats.helixCount.comparator>between</polyStats.helixCount.comparator>\n",
    "    <polyStats.sheetPercent.comparator>between</polyStats.sheetPercent.comparator>\n",
    "    <polyStats.sheetCount.comparator>between</polyStats.sheetCount.comparator>\n",
    "    <polyStats.helixPercent.min>85</polyStats.helixPercent.min>\n",
    "    <polyStats.helixPercent.max>100</polyStats.helixPercent.max>\n",
    "    <polyStats.helixCount.min>1</polyStats.helixCount.min>\n",
    "    <polyStats.sheetPercent.max>0</polyStats.sheetPercent.max>\n",
    "    <polyStats.sheetCount.max>0</polyStats.sheetCount.max>\n",
    "  </orgPdbQuery>\n",
    " </queryRefinement>\n",
    " <queryRefinement>\n",
    "  <queryRefinementLevel>1</queryRefinementLevel>\n",
    "  <conjunctionType>and</conjunctionType>\n",
    "  <orgPdbQuery>\n",
    "    <version>head</version>\n",
    "    <queryType>org.pdb.query.simple.BiolUnitQuery</queryType>\n",
    "    <description>Oligomeric state Search : Min Number of oligomeric state=1 Max Number of oligomeric state=1</description>\n",
    "    <queryId>1BB8A37D</queryId>\n",
    "    <resultCount>59551</resultCount>\n",
    "    <runtimeStart>2018-11-29T13:35:17Z</runtimeStart>\n",
    "    <runtimeMilliseconds>1060</runtimeMilliseconds>\n",
    "    <oligomeric_statemin>1</oligomeric_statemin>\n",
    "    <oligomeric_statemax>1</oligomeric_statemax>\n",
    "  </orgPdbQuery>\n",
    " </queryRefinement>\n",
    " <queryRefinement>\n",
    "  <queryRefinementLevel>2</queryRefinementLevel>\n",
    "  <conjunctionType>and</conjunctionType>\n",
    "  <orgPdbQuery>\n",
    "    <version>head</version>\n",
    "    <queryType>org.pdb.query.simple.SequenceLengthQuery</queryType>\n",
    "    <description>Sequence Length is between 9 and 60 </description>\n",
    "    <queryId>95F56C17</queryId>\n",
    "    <resultCount>31099</resultCount>\n",
    "    <runtimeStart>2018-11-29T13:35:18Z</runtimeStart>\n",
    "    <runtimeMilliseconds>2545</runtimeMilliseconds>\n",
    "    <v_sequence.chainLength.min>9</v_sequence.chainLength.min>\n",
    "    <v_sequence.chainLength.max>60</v_sequence.chainLength.max>\n",
    "  </orgPdbQuery>\n",
    " </queryRefinement>\n",
    "</orgPdbCompositeQuery>]]></parent>\n",
    "  </orgPdbQuery>\"\"\"\n",
    "\n",
    "header = {'Content-Type': 'application/x-www-form-urlencoded'}\n",
    "response = requests.post(url, data=query, headers=header)\n",
    "if response.status_code != 200:\n",
    "    print (\"Failed to retrieve results.\")\n",
    "    \n",
    "PDB_IDS = response.text.split(\"\\n\")    \n",
    "print (\"Retrieved {0} PDB IDs.\".format(len(PDB_IDS)))"
   ]
  },
  {
   "cell_type": "markdown",
   "metadata": {},
   "source": [
    "## 2. Set amino acid encoding and angle downloading methods."
   ]
  },
  {
   "cell_type": "code",
   "execution_count": 22,
   "metadata": {},
   "outputs": [],
   "source": [
    "import prody as pr\n",
    "pr.confProDy(verbosity='error')\n",
    "import numpy as np\n",
    "import re\n",
    "import pickle\n",
    "from joblib import Parallel, delayed\n",
    "from multiprocessing import Pool\n",
    "import sys\n",
    "    \n",
    "AA_MAP = {'A': 15,'C': 0,'D': 1,'E': 17,'F': 8,'G': 10,'H': 11,'I': 5,'K': 4,'L': 12,'M': 19,'N': 9,'P': 6,'Q': 3,'R': 13,'S': 2,'T': 7,'V': 16,'W': 14,'Y': 18}\n",
    "CUR_DIR = \"/home/jok120/projML/data/\"\n",
    "pr.pathPDBFolder(CUR_DIR + \"pdbgz/\")\n",
    "np.set_printoptions(suppress=True) # suppresses scientific notation when printing\n",
    "np.set_printoptions(threshold=np.nan) # suppresses '...' when printing"
   ]
  },
  {
   "cell_type": "code",
   "execution_count": 23,
   "metadata": {},
   "outputs": [],
   "source": [
    "def seq_to_onehot(seq):\n",
    "    \"\"\" Given an AA sequence, returns a vector of one-hot vectors.\"\"\"\n",
    "    vector_array = []\n",
    "    for aa in seq:\n",
    "        one_hot = np.zeros(len(AA_MAP), dtype=bool)\n",
    "        one_hot[AA_MAP[aa]] = 1\n",
    "        vector_array.append(one_hot)\n",
    "    return np.asarray(vector_array)"
   ]
  },
  {
   "cell_type": "code",
   "execution_count": 24,
   "metadata": {},
   "outputs": [],
   "source": [
    "def get_bond_angles(res, next_res):\n",
    "    \"\"\" Given 2 residues, returns the ncac, cacn, and cnca bond angles between them.\"\"\"\n",
    "    atoms = res.backbone.copy()\n",
    "    atoms_next = next_res.backbone.copy()\n",
    "    ncac = pr.calcAngle(atoms[0], atoms[1], atoms[2], radian=True)\n",
    "    cacn = pr.calcAngle(atoms[1], atoms[2], atoms_next[0], radian=True)\n",
    "    cnca = pr.calcAngle(atoms[2], atoms_next[0], atoms_next[1], radian=True)\n",
    "    return ncac, cacn, cnca"
   ]
  },
  {
   "cell_type": "code",
   "execution_count": 25,
   "metadata": {
    "code_folding": []
   },
   "outputs": [],
   "source": [
    "def get_angles_from_chain(chain, pdb_id):\n",
    "    \"\"\" Given a ProDy Chain object (from a Hierarchical View), return a numpy array of \n",
    "        angles. Returns None if the PDB should be ignored due to weird artifacts. Also measures\n",
    "        the bond angles along the peptide backbone, since they account for significat variation.\n",
    "        i.e. [[phi, psi, omega, ncac, cacn, cnca, chi1, chi2, chi3, chi4, chi5], [...] ...] \"\"\"\n",
    "    PAD_CHAR = 0\n",
    "    OUT_OF_BOUNDS_CHAR = 0\n",
    "    dihedrals = []\n",
    "    sequence = \"\"\n",
    "    \n",
    "    try:\n",
    "        if chain.nonstdaa:\n",
    "#             print(\"Non-standard AAs found.\")\n",
    "            return None\n",
    "        sequence = chain.getSequence()\n",
    "        length = len(sequence)\n",
    "        chain = chain.select(\"protein and not hetero\").copy()\n",
    "    except Exception as e:\n",
    "#         print(\"Problem loading sequence.\", e)\n",
    "        return None\n",
    "\n",
    "    all_residues = list(chain.iterResidues())\n",
    "    prev = all_residues[0].getResnum()\n",
    "    for i, res in enumerate(all_residues):   \n",
    "        if (not res.isstdaa):\n",
    "            print(\"Found a non-std AA. Why didn't you catch this?\", chain)\n",
    "            print(res.getNames())\n",
    "            return None\n",
    "        if res.getResnum() != prev:\n",
    "            print('\\rNon-continuous!!', pdb_id, end=\"\")\n",
    "            return None\n",
    "        else:\n",
    "            prev = res.getResnum() + 1\n",
    "        try:\n",
    "            phi = pr.calcPhi(res, radian=True, dist=None)\n",
    "        except:\n",
    "            phi = OUT_OF_BOUNDS_CHAR\n",
    "        try:\n",
    "            psi = pr.calcPsi(res, radian=True, dist=None)\n",
    "        except:\n",
    "            psi = OUT_OF_BOUNDS_CHAR\n",
    "        try:\n",
    "            omega = pr.calcOmega(res, radian=True, dist=None)\n",
    "        except:\n",
    "            omega = OUT_OF_BOUNDS_CHAR\n",
    "        if phi == 0 and psi == 0 and omega == 0:\n",
    "            return None\n",
    "            \n",
    "        if i == len(all_residues) - 1:\n",
    "            BONDANGLES = [0, 0, 0]\n",
    "        else:\n",
    "            try:\n",
    "                BONDANGLES = list(get_bond_angles(res, all_residues[i+1]))\n",
    "            except Exception as e:\n",
    "                print(\"Bond angle issue with\", pdb_id, e)\n",
    "                return None\n",
    "\n",
    "        BACKBONE = [phi,psi,omega]\n",
    "                  \n",
    "        def compute_single_dihedral(atoms):\n",
    "            return pr.calcDihedral(atoms[0],atoms[1],atoms[2],atoms[3],radian=True)\n",
    "        \n",
    "        def compute_all_res_dihedrals(atom_names):\n",
    "            atoms = [res.select(\"name \" + an) for an in atom_names]\n",
    "            if None in atoms:\n",
    "                return None\n",
    "            res_dihedrals = []\n",
    "            if len(atom_names) > 0:\n",
    "                for i in range(len(atoms)-3):      \n",
    "                    a = atoms[i:i+4]\n",
    "                    res_dihedrals.append(compute_single_dihedral(a))\n",
    "            return BACKBONE + BONDANGLES + res_dihedrals + (5 - len(res_dihedrals))*[PAD_CHAR]\n",
    "\n",
    "        if res.getResname()==\"ARG\":\n",
    "            atom_names = [\"CA\",\"C\",\"CB\",\"CG\",\"CD\",\"NE\",\"CZ\",\"NH1\"]             \n",
    "        elif res.getResname()==\"HIS\":\n",
    "            atom_names = [\"CA\",\"C\",\"CB\",\"CG\",\"ND1\"]            \n",
    "        elif res.getResname()==\"LYS\":\n",
    "            atom_names = [\"CA\",\"C\",\"CB\",\"CG\",\"CD\",\"CE\",\"NZ\"]                   \n",
    "        elif res.getResname()==\"ASP\":\n",
    "            atom_names = [\"CA\",\"C\",\"CB\",\"CG\",\"OD1\"]            \n",
    "        elif res.getResname()==\"GLU\":\n",
    "            atom_names = [\"CA\",\"C\",\"CB\",\"CG\",\"CD\",\"OE1\"]            \n",
    "        elif res.getResname()==\"SER\":\n",
    "            atom_names = [\"CA\",\"C\",\"CB\", \"OG\"]       \n",
    "        elif res.getResname()==\"THR\":\n",
    "            atom_names = [\"CA\",\"C\",\"CB\",\"CG2\"]                    \n",
    "        elif res.getResname()==\"ASN\":\n",
    "            atom_names = [\"CA\",\"C\",\"CB\",\"CG\",\"ND2\"]                    \n",
    "        elif res.getResname()==\"GLN\":\n",
    "            atom_names = [\"CA\",\"C\",\"CB\",\"CG\",\"CD\",\"NE2\"]                    \n",
    "        elif res.getResname()==\"CYS\":\n",
    "            atom_names = [\"CA\",\"C\",\"CB\",\"SG\"]         \n",
    "        elif res.getResname()==\"GLY\":\n",
    "            atom_names = []                    \n",
    "        elif res.getResname()==\"PRO\":\n",
    "            atom_names = []                    \n",
    "        elif res.getResname()==\"ALA\":\n",
    "            atom_names = []            \n",
    "        elif res.getResname()==\"VAL\":\n",
    "            atom_names = [\"CA\",\"C\",\"CB\",\"CG1\"]        \n",
    "        elif res.getResname()==\"ILE\":\n",
    "            atom_names = [\"CA\",\"C\",\"CB\",\"CG1\",\"CD1\"]        \n",
    "        elif res.getResname()==\"LEU\":\n",
    "            atom_names = [\"CA\",\"C\",\"CB\",\"CG\",\"CD1\"]        \n",
    "        elif res.getResname()==\"MET\":\n",
    "            atom_names = [\"CA\",\"C\",\"CB\",\"CG\",\"SD\",\"CE\"]                    \n",
    "        elif res.getResname()==\"PHE\":\n",
    "            atom_names = [\"CA\",\"C\",\"CB\",\"CG\", \"CD1\"]         \n",
    "        elif res.getResname()==\"TRP\":\n",
    "            atom_names = [\"CA\",\"C\",\"CB\",\"CG\",\"CD1\"]                          \n",
    "        elif res.getResname()==\"TYR\":\n",
    "            atom_names = [\"CA\",\"C\",\"CB\",\"CG\",\"CD1\"]\n",
    "        else:\n",
    "            continue\n",
    "            \n",
    "        calculated_dihedrals = compute_all_res_dihedrals(atom_names)\n",
    "        if calculated_dihedrals == None:\n",
    "            return None\n",
    "        dihedrals.append(calculated_dihedrals)\n",
    "\n",
    "    # No normalization\n",
    "    dihedrals_np = np.asarray(dihedrals)\n",
    "    # Check for NaNs - they shouldn't be here, but certainly should be excluded if they are.\n",
    "    if np.any(np.isnan(dihedrals_np)):\n",
    "        return None\n",
    "    return dihedrals_np, sequence"
   ]
  },
  {
   "cell_type": "markdown",
   "metadata": {},
   "source": [
    "## 3a. Iterate through all chains in `PDB_IDS`, saving all results to disk."
   ]
  },
  {
   "cell_type": "markdown",
   "metadata": {},
   "source": [
    "### Remove empty PDB ids."
   ]
  },
  {
   "cell_type": "code",
   "execution_count": 26,
   "metadata": {},
   "outputs": [],
   "source": [
    "PDB_IDS = list(filter(lambda x: x != \"\", PDB_IDS))"
   ]
  },
  {
   "cell_type": "markdown",
   "metadata": {},
   "source": [
    "### Remove PDB entries that have gaps"
   ]
  },
  {
   "cell_type": "code",
   "execution_count": 27,
   "metadata": {
    "collapsed": true
   },
   "outputs": [
    {
     "name": "stdout",
     "output_type": "stream",
     "text": [
      "1DEB bad\n",
      "1DEB bad\n",
      "1Y47 bad\n",
      "1Y47 bad\n",
      "3BBZ bad\n",
      "3BBZ bad\n",
      "4MZZ bad\n",
      "4MZZ bad\n",
      "4N3X bad\n",
      "4N3X bad\n",
      "4N3X bad\n",
      "4N3X bad\n",
      "4YV4 bad\n",
      "4YV4 bad\n",
      "4YV4 bad\n",
      "4YV4 bad\n",
      "4YV4 bad\n",
      "4YV4 bad\n",
      "4YV4 bad\n",
      "4YV4 bad\n",
      "5MFH bad\n",
      "5MFH bad\n",
      "5MFH bad\n",
      "5MFH bad\n",
      "5MFH bad\n",
      "5MFH bad\n",
      "5V2O bad\n",
      "5V2O bad\n",
      "5V2O bad\n",
      "5V2O bad\n",
      "5V2O bad\n",
      "5V2O bad\n"
     ]
    }
   ],
   "source": [
    "NEW_PDB_IDS = []\n",
    "for p in PDB_IDS:\n",
    "    pdb_ = pr.parsePDB(p)\n",
    "    if pdb_ is None:\n",
    "        print(p, None)\n",
    "        continue\n",
    "    pdb_hv = pr.parsePDB(p).getHierView()\n",
    "    for chain in pdb_hv:\n",
    "        c = chain\n",
    "        if c.getResindices()[-1] + 1 != len(set(c.getResindices())):\n",
    "            print(p, \"bad\")\n",
    "        else:\n",
    "            NEW_PDB_IDS.append(p)"
   ]
  },
  {
   "cell_type": "code",
   "execution_count": 29,
   "metadata": {},
   "outputs": [],
   "source": [
    "PDB_IDS = NEW_PDB_IDS.copy()"
   ]
  },
  {
   "cell_type": "markdown",
   "metadata": {},
   "source": [
    "## 3b. Parallelized method of downloading data (not yet implemented)."
   ]
  },
  {
   "cell_type": "code",
   "execution_count": 30,
   "metadata": {},
   "outputs": [],
   "source": [
    "import tqdm"
   ]
  },
  {
   "cell_type": "code",
   "execution_count": 31,
   "metadata": {},
   "outputs": [
    {
     "name": "stdout",
     "output_type": "stream",
     "text": [
      "CPU times: user 3 µs, sys: 1 µs, total: 4 µs\n",
      "Wall time: 7.39 µs\n"
     ]
    },
    {
     "name": "stderr",
     "output_type": "stream",
     "text": [
      "100%|██████████| 78/78 [00:00<00:00, 91.29it/s]\n"
     ]
    }
   ],
   "source": [
    "%time\n",
    "def work(pdb_id):\n",
    "    pdb_dihedrals = []\n",
    "    pdb_sequences = []\n",
    "    ids = []\n",
    "    try:\n",
    "        pdb_hv = pr.parsePDB(pdb_id).getHierView()\n",
    "        for chain in pdb_hv:\n",
    "            chain_id = chain.getChid()\n",
    "            dihedrals_sequence = get_angles_from_chain(chain, pdb_id)\n",
    "            if dihedrals_sequence is None:\n",
    "                continue \n",
    "            dihedrals, sequence = dihedrals_sequence\n",
    "            pdb_dihedrals.append(dihedrals)\n",
    "            pdb_sequences.append(sequence)\n",
    "            ids.append(pdb_id + \"_\" + chain_id)\n",
    "    except Exception as e:\n",
    "        print(\"Whoops, returning where I am.\", e)\n",
    "    return pdb_dihedrals, pdb_sequences, ids\n",
    "\n",
    "# p = Pool(15)\n",
    "# results = p.map(work, PDB_IDS)\n",
    "def _foo(i):\n",
    "    return work(PDB_IDS[i])\n",
    "\n",
    "with Pool(16) as p:\n",
    "    results = list(tqdm.tqdm(p.imap(_foo, range(len(PDB_IDS))), total=len(PDB_IDS)))"
   ]
  },
  {
   "cell_type": "markdown",
   "metadata": {},
   "source": [
    "## 4. Save Python lists of data to disk. "
   ]
  },
  {
   "cell_type": "code",
   "execution_count": 33,
   "metadata": {},
   "outputs": [
    {
     "data": {
      "text/plain": [
       "78"
      ]
     },
     "execution_count": 33,
     "metadata": {},
     "output_type": "execute_result"
    }
   ],
   "source": [
    "with open(\"raw_aquired\" + suffix + \".pkl\", \"wb\") as F:\n",
    "    pickle.dump(results, F, 2)\n",
    "len(results)"
   ]
  },
  {
   "cell_type": "code",
   "execution_count": 34,
   "metadata": {},
   "outputs": [],
   "source": [
    "results_onehots = []\n",
    "for r in results:\n",
    "    ang, seq, i = r\n",
    "    if len(i) == 0:\n",
    "        continue\n",
    "    results_onehots.append((ang[0], seq_to_onehot(seq[0]), i[0]))"
   ]
  },
  {
   "cell_type": "code",
   "execution_count": 35,
   "metadata": {
    "collapsed": true
   },
   "outputs": [
    {
     "data": {
      "text/plain": [
       "(array([[ 0.        ,  2.10685991,  3.14039919,  1.91003101,  2.0511851 ,\n",
       "          2.09481361,  0.        ,  0.        ,  0.        ,  0.        ,\n",
       "          0.        ],\n",
       "        [-2.84690899,  3.11956781, -3.14123585,  1.9115174 ,  2.04962505,\n",
       "          2.095468  ,  2.11113846,  0.84151237,  0.        ,  0.        ,\n",
       "          0.        ],\n",
       "        [-1.43614185, -1.70443975, -3.10168744,  1.91877092,  2.07926199,\n",
       "          2.0361038 , -0.90541488,  1.79231189,  2.55188067,  1.12747811,\n",
       "          0.        ],\n",
       "        [ 0.98096575,  0.40613516, -3.09588627,  1.84636708,  2.04142665,\n",
       "          2.13146332,  2.73564648,  0.        ,  0.        ,  0.        ,\n",
       "          0.        ],\n",
       "        [ 0.26276274,  0.75703315, -3.08993623,  1.93363706,  2.01503707,\n",
       "          2.12904963, -1.75312631,  1.79243467,  0.        ,  0.        ,\n",
       "          0.        ],\n",
       "        [ 0.30216041,  0.90758012, -3.11061607,  1.91900806,  1.93802902,\n",
       "          2.14637458, -1.30039865,  2.07659783,  0.        ,  0.        ,\n",
       "          0.        ],\n",
       "        [ 2.9128832 , -0.81285788,  3.06773242,  1.84121713,  2.02657312,\n",
       "          2.09436266,  0.        ,  0.        ,  0.        ,  0.        ,\n",
       "          0.        ],\n",
       "        [-1.06921388, -0.4497077 ,  3.10599409,  1.82703057,  2.02391577,\n",
       "          2.09416163, -2.49491357,  1.72549994,  0.        ,  0.        ,\n",
       "          0.        ],\n",
       "        [-0.75749476, -0.95325951, -3.12495197,  1.90242619,  2.03954597,\n",
       "          2.10484234, -1.98093033,  0.        ,  0.        ,  0.        ,\n",
       "          0.        ],\n",
       "        [-1.23259239, -1.31693922, -3.13281788,  1.93374754,  2.05811556,\n",
       "          2.10130639,  0.        ,  0.        ,  0.        ,  0.        ,\n",
       "          0.        ],\n",
       "        [-0.66108621, -0.51109765,  3.10548123,  1.90862474,  2.06094669,\n",
       "          2.09096566,  2.73269974,  1.47391027,  0.        ,  0.        ,\n",
       "          0.        ],\n",
       "        [-0.88445314, -1.22321618,  3.13412133,  1.87270386,  2.00565577,\n",
       "          2.11262334, -2.3648337 ,  0.        ,  0.        ,  0.        ,\n",
       "          0.        ],\n",
       "        [-0.54824262, -0.56896536,  3.099003  ,  1.91762115,  2.0541798 ,\n",
       "          2.05710931, -1.31832921, -0.33236346,  0.        ,  0.        ,\n",
       "          0.        ],\n",
       "        [-1.45020044, -0.88786733,  3.12481644,  1.90756712,  2.06085649,\n",
       "          2.09889714, -1.71145435,  2.67117691, -1.42155023,  0.        ,\n",
       "          0.        ],\n",
       "        [-1.14572018, -0.86154351,  3.09405033,  1.87671748,  2.00736794,\n",
       "          2.09819748,  0.51355818, -1.09578748, -1.15151551,  0.        ,\n",
       "          0.        ],\n",
       "        [-0.83844136, -0.45637664,  3.11924118,  1.85982325,  2.03733467,\n",
       "          2.09044041,  0.        ,  0.        ,  0.        ,  0.        ,\n",
       "          0.        ],\n",
       "        [-1.51382588, -0.56525968,  3.11277068,  1.89808183,  2.04306177,\n",
       "          2.09682916,  3.05898395,  2.85158882, -2.62841818,  0.        ,\n",
       "          0.        ],\n",
       "        [-0.78958675, -0.41330463,  3.11954267,  1.87573311,  2.03205202,\n",
       "          2.10430931, -1.26840805,  1.7435806 ,  0.32188126,  0.        ,\n",
       "          0.        ],\n",
       "        [-1.95317663, -0.49771304, -3.12294092,  1.90457217,  2.04978906,\n",
       "          2.09994106,  2.42544486,  1.34891477,  0.        ,  0.        ,\n",
       "          0.        ],\n",
       "        [-1.54223397, -1.35070402, -3.12116379,  1.93799154,  2.05346282,\n",
       "          2.10479512, -1.268327  , -1.00696024,  0.        ,  0.        ,\n",
       "          0.        ],\n",
       "        [-0.62185778, -1.23160842,  3.12423681,  1.90991921,  1.99706717,\n",
       "          2.12139733, -0.15432052,  0.        ,  0.        ,  0.        ,\n",
       "          0.        ],\n",
       "        [-0.65153971, -0.87554161,  3.12842042,  1.89784341,  2.02578666,\n",
       "          2.11621056,  1.80014645,  0.        ,  0.        ,  0.        ,\n",
       "          0.        ],\n",
       "        [-0.88252558, -1.1924911 , -3.12322069,  1.91747485,  2.04278314,\n",
       "          2.0952859 , -1.5855678 , -0.26175168,  0.        ,  0.        ,\n",
       "          0.        ],\n",
       "        [-1.06466855, -0.16462751,  3.13972405,  1.92910698,  2.06098415,\n",
       "          2.09514283, -1.3747717 , -2.55264576,  2.2504901 ,  0.        ,\n",
       "          0.        ],\n",
       "        [-1.42816917, -1.24025798,  3.13291421,  1.9071376 ,  2.05010895,\n",
       "          2.09351432, -1.68011117,  0.        ,  0.        ,  0.        ,\n",
       "          0.        ],\n",
       "        [-0.97875471, -0.47763777,  3.13786484,  1.89640443,  2.02836028,\n",
       "          2.10978437,  0.        ,  0.        ,  0.        ,  0.        ,\n",
       "          0.        ],\n",
       "        [-0.95584343, -1.06662804, -3.13511731,  1.91376659,  2.05029085,\n",
       "          2.10129916, -1.15236838,  1.40880594,  0.        ,  0.        ,\n",
       "          0.        ],\n",
       "        [-1.31399346,  0.08071502,  3.13371876,  1.93024955,  2.05465653,\n",
       "          2.0945016 , -1.82085452,  1.34267488,  0.        ,  0.        ,\n",
       "          0.        ],\n",
       "        [-1.56975119, -1.05803437,  3.13989984,  1.88364301,  2.05404164,\n",
       "          2.09271766, -2.70907182,  1.68943535,  0.        ,  0.        ,\n",
       "          0.        ],\n",
       "        [-1.27369374, -0.08358005,  3.13281441,  1.91453346,  2.04249326,\n",
       "          2.0983401 , -1.09494928,  1.16115327,  0.        ,  0.        ,\n",
       "          0.        ],\n",
       "        [-1.68440877, -0.19769277,  3.11830034,  1.89878288,  2.04308642,\n",
       "          2.10826336, -2.63761474,  0.        ,  0.        ,  0.        ,\n",
       "          0.        ],\n",
       "        [-1.90217104, -0.95166102,  3.1059314 ,  1.87376717,  2.04953051,\n",
       "          2.08929919,  0.        ,  0.        ,  0.        ,  0.        ,\n",
       "          0.        ],\n",
       "        [-0.9070731 , -0.80199776,  3.13562568,  1.89072362,  2.049376  ,\n",
       "          2.08353884, -2.1424048 ,  0.        ,  0.        ,  0.        ,\n",
       "          0.        ],\n",
       "        [-0.89186686, -1.02768438,  3.12551879,  1.86979018,  2.0198397 ,\n",
       "          2.10491516,  0.        ,  0.        ,  0.        ,  0.        ,\n",
       "          0.        ],\n",
       "        [-0.72797819, -0.59543807,  3.13309552,  1.89165859,  2.02829011,\n",
       "          2.08096026,  0.86402898,  2.89018663,  0.        ,  0.        ,\n",
       "          0.        ],\n",
       "        [-1.2464198 , -0.87023503,  3.10783334,  1.87626256,  2.04382078,\n",
       "          2.09471505, -1.96649875,  0.        ,  0.        ,  0.        ,\n",
       "          0.        ],\n",
       "        [-0.81665461, -0.55830405,  3.12761069,  1.88397952,  2.05274554,\n",
       "          2.08107308,  0.        ,  0.        ,  0.        ,  0.        ,\n",
       "          0.        ],\n",
       "        [-1.38069947, -0.72013896,  3.13035659,  1.91047376,  2.05141931,\n",
       "          2.09996132, -0.19934333, -3.02743774,  0.        ,  0.        ,\n",
       "          0.        ],\n",
       "        [-1.54490421, -1.19027684,  3.13507321,  1.89549741,  2.04557838,\n",
       "          2.10892269,  0.49072389,  2.55097421,  0.        ,  0.        ,\n",
       "          0.        ],\n",
       "        [-0.58967294, -0.60008724,  3.13913924,  1.9231789 ,  2.05581743,\n",
       "          2.09012258,  0.        ,  0.        ,  0.        ,  0.        ,\n",
       "          0.        ],\n",
       "        [-1.3120142 , -0.89195402,  3.13095098,  1.90601352,  2.05000155,\n",
       "          2.09755701, -2.33786021,  0.        ,  0.        ,  0.        ,\n",
       "          0.        ],\n",
       "        [-1.49642313,  0.22329079, -3.13780769,  1.90476661,  2.04572266,\n",
       "          2.10234444,  0.18660014, -0.79161186,  0.        ,  0.        ,\n",
       "          0.        ],\n",
       "        [-1.86486589, -0.43575479, -3.14119336,  1.90681357,  2.05195972,\n",
       "          2.09157346, -0.44423618, -2.85483216,  0.        ,  0.        ,\n",
       "          0.        ],\n",
       "        [-1.47799086,  0.11193408, -3.14030046,  1.91198123,  2.04745251,\n",
       "          2.09592098, -0.86033157,  1.80415554,  0.        ,  0.        ,\n",
       "          0.        ],\n",
       "        [-1.47136448, -0.90686299, -3.13567215,  1.92401793,  2.01983616,\n",
       "          2.1435582 , -1.24334735,  2.4697169 , -2.24049972,  2.8272709 ,\n",
       "         -1.89067458],\n",
       "        [-1.41313294,  2.50901381,  3.1402266 ,  1.92588699,  2.0513574 ,\n",
       "          2.09464536,  0.        ,  0.        ,  0.        ,  0.        ,\n",
       "          0.        ],\n",
       "        [-2.64171319, -0.87503258,  3.13843256,  1.90748524,  2.04830924,\n",
       "          2.0941329 , -0.88684918,  1.80103765,  0.        ,  0.        ,\n",
       "          0.        ],\n",
       "        [ 0.89735773,  0.        ,  0.        ,  0.        ,  0.        ,\n",
       "          0.        , -1.55166946, -0.43372133,  0.        ,  0.        ,\n",
       "          0.        ]]),\n",
       " array([[False, False, False, False, False, False, False, False, False,\n",
       "         False, False, False, False, False, False,  True, False, False,\n",
       "         False, False],\n",
       "        [False,  True, False, False, False, False, False, False, False,\n",
       "         False, False, False, False, False, False, False, False, False,\n",
       "         False, False],\n",
       "        [False, False, False, False,  True, False, False, False, False,\n",
       "         False, False, False, False, False, False, False, False, False,\n",
       "         False, False],\n",
       "        [False, False,  True, False, False, False, False, False, False,\n",
       "         False, False, False, False, False, False, False, False, False,\n",
       "         False, False],\n",
       "        [False,  True, False, False, False, False, False, False, False,\n",
       "         False, False, False, False, False, False, False, False, False,\n",
       "         False, False],\n",
       "        [False, False, False, False, False, False, False, False, False,\n",
       "         False, False, False,  True, False, False, False, False, False,\n",
       "         False, False],\n",
       "        [False, False, False, False, False, False, False, False, False,\n",
       "         False,  True, False, False, False, False, False, False, False,\n",
       "         False, False],\n",
       "        [False, False, False, False, False, False, False, False, False,\n",
       "         False, False, False, False, False, False, False, False, False,\n",
       "          True, False],\n",
       "        [False, False, False, False, False, False, False,  True, False,\n",
       "         False, False, False, False, False, False, False, False, False,\n",
       "         False, False],\n",
       "        [False, False, False, False, False, False, False, False, False,\n",
       "         False,  True, False, False, False, False, False, False, False,\n",
       "         False, False],\n",
       "        [False, False, False, False, False, False, False, False, False,\n",
       "         False, False, False,  True, False, False, False, False, False,\n",
       "         False, False],\n",
       "        [False, False, False, False, False, False, False,  True, False,\n",
       "         False, False, False, False, False, False, False, False, False,\n",
       "         False, False],\n",
       "        [False,  True, False, False, False, False, False, False, False,\n",
       "         False, False, False, False, False, False, False, False, False,\n",
       "         False, False],\n",
       "        [False, False, False, False, False, False, False, False, False,\n",
       "         False, False, False, False, False, False, False, False,  True,\n",
       "         False, False],\n",
       "        [False, False, False,  True, False, False, False, False, False,\n",
       "         False, False, False, False, False, False, False, False, False,\n",
       "         False, False],\n",
       "        [False, False, False, False, False, False, False, False, False,\n",
       "         False, False, False, False, False, False,  True, False, False,\n",
       "         False, False],\n",
       "        [False, False, False,  True, False, False, False, False, False,\n",
       "         False, False, False, False, False, False, False, False, False,\n",
       "         False, False],\n",
       "        [False, False, False, False, False, False, False, False, False,\n",
       "         False, False, False, False, False, False, False, False,  True,\n",
       "         False, False],\n",
       "        [False, False, False, False, False, False, False, False, False,\n",
       "         False, False, False,  True, False, False, False, False, False,\n",
       "         False, False],\n",
       "        [False, False, False, False, False, False, False, False, False,\n",
       "         False, False,  True, False, False, False, False, False, False,\n",
       "         False, False],\n",
       "        [False, False,  True, False, False, False, False, False, False,\n",
       "         False, False, False, False, False, False, False, False, False,\n",
       "         False, False],\n",
       "        [False, False, False, False, False, False, False, False, False,\n",
       "         False, False, False, False, False, False, False,  True, False,\n",
       "         False, False],\n",
       "        [False, False, False, False, False, False, False, False, False,\n",
       "         False, False, False, False, False, False, False, False, False,\n",
       "          True, False],\n",
       "        [False, False, False, False, False, False, False, False, False,\n",
       "         False, False, False, False, False, False, False, False, False,\n",
       "         False,  True],\n",
       "        [False, False,  True, False, False, False, False, False, False,\n",
       "         False, False, False, False, False, False, False, False, False,\n",
       "         False, False],\n",
       "        [False, False, False, False, False, False, False, False, False,\n",
       "         False,  True, False, False, False, False, False, False, False,\n",
       "         False, False],\n",
       "        [False, False, False, False, False, False, False, False, False,\n",
       "         False, False, False,  True, False, False, False, False, False,\n",
       "         False, False],\n",
       "        [False, False, False, False, False, False, False, False, False,\n",
       "         False, False, False, False, False,  True, False, False, False,\n",
       "         False, False],\n",
       "        [False, False, False, False, False, False, False, False, False,\n",
       "         False, False, False,  True, False, False, False, False, False,\n",
       "         False, False],\n",
       "        [False, False, False, False, False, False, False, False,  True,\n",
       "         False, False, False, False, False, False, False, False, False,\n",
       "         False, False],\n",
       "        [False, False,  True, False, False, False, False, False, False,\n",
       "         False, False, False, False, False, False, False, False, False,\n",
       "         False, False],\n",
       "        [False, False, False, False, False, False, False, False, False,\n",
       "         False, False, False, False, False, False,  True, False, False,\n",
       "         False, False],\n",
       "        [False, False, False, False, False, False, False, False, False,\n",
       "         False, False, False, False, False, False, False,  True, False,\n",
       "         False, False],\n",
       "        [False, False, False, False, False, False, False, False, False,\n",
       "         False, False, False, False, False, False,  True, False, False,\n",
       "         False, False],\n",
       "        [False, False, False, False, False,  True, False, False, False,\n",
       "         False, False, False, False, False, False, False, False, False,\n",
       "         False, False],\n",
       "        [False, False, False, False, False, False, False, False, False,\n",
       "         False, False, False, False, False, False, False,  True, False,\n",
       "         False, False],\n",
       "        [False, False, False, False, False, False, False, False, False,\n",
       "         False, False, False, False, False, False,  True, False, False,\n",
       "         False, False],\n",
       "        [False, False, False, False, False, False, False, False, False,\n",
       "         False, False,  True, False, False, False, False, False, False,\n",
       "         False, False],\n",
       "        [False, False, False, False, False, False, False, False, False,\n",
       "         False, False, False,  True, False, False, False, False, False,\n",
       "         False, False],\n",
       "        [False, False, False, False, False, False, False, False, False,\n",
       "         False, False, False, False, False, False,  True, False, False,\n",
       "         False, False],\n",
       "        [False, False, False, False, False, False, False, False, False,\n",
       "         False, False, False, False, False, False, False,  True, False,\n",
       "         False, False],\n",
       "        [False, False, False, False, False, False, False, False, False,\n",
       "         False, False, False, False, False, False, False, False, False,\n",
       "          True, False],\n",
       "        [False, False, False, False, False,  True, False, False, False,\n",
       "         False, False, False, False, False, False, False, False, False,\n",
       "         False, False],\n",
       "        [False, False, False, False, False, False, False, False, False,\n",
       "         False, False, False, False, False,  True, False, False, False,\n",
       "         False, False],\n",
       "        [False, False, False, False, False, False, False, False, False,\n",
       "         False, False, False, False,  True, False, False, False, False,\n",
       "         False, False],\n",
       "        [False, False, False, False, False, False,  True, False, False,\n",
       "         False, False, False, False, False, False, False, False, False,\n",
       "         False, False],\n",
       "        [False, False, False, False, False, False, False, False, False,\n",
       "         False, False, False, False, False,  True, False, False, False,\n",
       "         False, False],\n",
       "        [False, False, False, False, False, False, False, False,  True,\n",
       "         False, False, False, False, False, False, False, False, False,\n",
       "         False, False]]),\n",
       " '1DX7_A')"
      ]
     },
     "execution_count": 35,
     "metadata": {},
     "output_type": "execute_result"
    }
   ],
   "source": [
    "results_onehots[0]"
   ]
  },
  {
   "cell_type": "code",
   "execution_count": 36,
   "metadata": {},
   "outputs": [],
   "source": [
    "all_ohs = []\n",
    "all_angs = []\n",
    "all_ids = []\n",
    "for r in results_onehots:\n",
    "    a, oh, i = r\n",
    "    all_ohs.append(oh)\n",
    "    all_angs.append(a)\n",
    "    all_ids.append(i)"
   ]
  },
  {
   "cell_type": "code",
   "execution_count": 37,
   "metadata": {},
   "outputs": [],
   "source": [
    "from sklearn.model_selection import train_test_split"
   ]
  },
  {
   "cell_type": "code",
   "execution_count": 38,
   "metadata": {},
   "outputs": [],
   "source": [
    "ohs_ids = list(zip(all_ohs, all_ids))"
   ]
  },
  {
   "cell_type": "code",
   "execution_count": 39,
   "metadata": {},
   "outputs": [],
   "source": [
    "X_train, X_test, y_train, y_test = train_test_split(ohs_ids, all_angs, test_size=0.20, random_state=42)\n",
    "X_train, X_val, y_train, y_val = train_test_split(X_train, y_train, test_size=0.14, random_state=42)"
   ]
  },
  {
   "cell_type": "code",
   "execution_count": 40,
   "metadata": {},
   "outputs": [
    {
     "data": {
      "text/plain": [
       "[51, 16, 51, 16, 9, 9]"
      ]
     },
     "execution_count": 40,
     "metadata": {},
     "output_type": "execute_result"
    }
   ],
   "source": [
    "list(map(len, [X_train, X_test, y_train, y_test, X_val, y_val]))"
   ]
  },
  {
   "cell_type": "markdown",
   "metadata": {},
   "source": [
    "Remove and save ids."
   ]
  },
  {
   "cell_type": "code",
   "execution_count": 41,
   "metadata": {},
   "outputs": [],
   "source": [
    "X_train_labels = [x[1] for x in X_train]\n",
    "X_test_labels = [x[1] for x in X_test]\n",
    "X_val_labels = [x[1] for x in X_val]"
   ]
  },
  {
   "cell_type": "code",
   "execution_count": 42,
   "metadata": {},
   "outputs": [],
   "source": [
    "X_train = [x[0] for x in X_train]\n",
    "X_test = [x[0] for x in X_test]\n",
    "X_val = [x[0] for x in X_val]"
   ]
  },
  {
   "cell_type": "code",
   "execution_count": 43,
   "metadata": {},
   "outputs": [],
   "source": [
    "data = {\"train\": {\"seq\": X_train,\n",
    "                  \"ang\": y_train,\n",
    "                  \"ids\": X_train_labels},\n",
    "        \"valid\": {\"seq\": X_val,\n",
    "                  \"ang\": y_val,\n",
    "                  \"ids\": X_val_labels},\n",
    "        \"test\":  {\"seq\": X_test,\n",
    "                  \"ang\": y_test,\n",
    "                  \"ids\": X_test_labels},\n",
    "       \"settings\": {\"max_len\": max(map(len, all_ohs))}}"
   ]
  },
  {
   "cell_type": "code",
   "execution_count": 77,
   "metadata": {},
   "outputs": [],
   "source": [
    "with open(\"data/data.pkl\", \"wb\") as datafile:\n",
    "    pickle.dump(data, datafile)"
   ]
  },
  {
   "cell_type": "code",
   "execution_count": 3,
   "metadata": {},
   "outputs": [],
   "source": [
    "import pickle"
   ]
  },
  {
   "cell_type": "code",
   "execution_count": 4,
   "metadata": {},
   "outputs": [],
   "source": [
    "with open(\"data.pkl\", \"rb\") as datafile:\n",
    "    data = pickle.load(datafile)"
   ]
  },
  {
   "cell_type": "code",
   "execution_count": 44,
   "metadata": {},
   "outputs": [],
   "source": [
    "import torch"
   ]
  },
  {
   "cell_type": "code",
   "execution_count": 45,
   "metadata": {},
   "outputs": [],
   "source": [
    "torch.save(data, \"data.pkl\")"
   ]
  },
  {
   "cell_type": "code",
   "execution_count": null,
   "metadata": {},
   "outputs": [],
   "source": []
  }
 ],
 "metadata": {
  "anaconda-cloud": {},
  "kernelspec": {
   "display_name": "Python3 (pytorch)",
   "language": "python",
   "name": "pytorch"
  },
  "language_info": {
   "codemirror_mode": {
    "name": "ipython",
    "version": 3
   },
   "file_extension": ".py",
   "mimetype": "text/x-python",
   "name": "python",
   "nbconvert_exporter": "python",
   "pygments_lexer": "ipython3",
   "version": "3.6.6"
  }
 },
 "nbformat": 4,
 "nbformat_minor": 1
}
